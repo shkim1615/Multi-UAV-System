{
 "cells": [
  {
   "cell_type": "markdown",
   "metadata": {},
   "source": [
    "여러 배낭 문제로 분배 문제를 해결하려고 노력하였음  \n",
    "배낭 문제도 동일하게 근본적인 해결 방식 자체가 문제가 있음  \n",
    "\n",
    "가치와 무게가 서로 다른 여러 아이템들을 어떻게 해야 최대한 가치를 높게 하여 많이 챙길 수 있는가.  \n",
    "나의 목표를 각 가방마다 동일한 가치를 가지는 것이 문제.  \n",
    "여러 배낭 문제에서는 서로의 합이 최대가 되도록 문제 해결.  \n",
    "근본적인 차이가 존재함  \n",
    "  \n",
    "타겟 코스트를 동일하게 맞추고 그 이후 위치를 옮기는 방식은 여기서 별로 좋게 작용하지 않음.  \n",
    "코스트를 완전 내가 임의로 분배한다면 그건 분명한 문제가 생길 터인데.  \n",
    "일단은 좀 해봐야 알 것 같은걸\n"
   ]
  },
  {
   "cell_type": "code",
   "execution_count": 66,
   "metadata": {},
   "outputs": [],
   "source": [
    "import torch\n",
    "from torch import multiprocessing\n",
    "import numpy as np\n",
    "import matplotlib.pyplot as plt\n",
    "\n",
    "\n",
    "import sys\n",
    "sys.path.append('/home/ksh-server/workspace/ICUFN')\n",
    "from my_clustering.my_vmas.scenarios.navigation_random import Scenario"
   ]
  },
  {
   "cell_type": "code",
   "execution_count": 67,
   "metadata": {},
   "outputs": [],
   "source": [
    "is_fork = multiprocessing.get_start_method() == \"fork\"\n",
    "device = (\n",
    "    torch.device(0)\n",
    "    if torch.cuda.is_available() and not is_fork\n",
    "    else torch.device(\"cpu\")\n",
    ")\n",
    "vmas_device = device\n",
    "\n",
    "env = Scenario()\n",
    "world = env.make_world(\n",
    "        device=device,\n",
    "        n_agents=4,\n",
    "        batch_dim=1\n",
    "    )\n"
   ]
  },
  {
   "cell_type": "code",
   "execution_count": 68,
   "metadata": {},
   "outputs": [],
   "source": [
    "def world_reset(env):\n",
    "    env.reset_world_at()\n",
    "    agents = env.world.agents\n",
    "    targets = env.targets\n",
    "    finished_position = env.finished_pos\n",
    "    \n",
    "    return agents, targets, finished_position"
   ]
  },
  {
   "cell_type": "code",
   "execution_count": 69,
   "metadata": {},
   "outputs": [],
   "source": [
    "def initial_render(agents, targets, finished_position):\n",
    "    map_size = 2\n",
    "\n",
    "    # 플롯 생성\n",
    "    fig, ax = plt.subplots(figsize=(4, 4))\n",
    "    ax.set_xlim(-map_size, map_size)\n",
    "    ax.set_ylim(-map_size, map_size)\n",
    "    ax.set_title(\"Agent and Target Distribution\")\n",
    "\n",
    "    # 에이전트 플로팅 (파란색 원)\n",
    "    for i, agent in enumerate(agents):\n",
    "        x, y = agent.state.pos.squeeze().tolist()\n",
    "        ax.add_patch(plt.Circle((x, y), agent.shape.radius, color=agent.color, alpha=1, label=f\"Agent_{i+1}\"))\n",
    "\n",
    "    for target in targets:\n",
    "        x, y = target.state.pos.squeeze().tolist()\n",
    "        label = \"target\" if targets[0] == target else None\n",
    "        ax.add_patch(plt.Circle((x, y), target.shape.radius, color=\"black\", alpha=1, label=label))\n",
    "        \n",
    "    for pos in finished_position:\n",
    "        x, y = pos[0].squeeze().tolist()\n",
    "        label = 'finished_position' if finished_position[0] == pos else None\n",
    "        ax.add_patch(plt.Circle((x, y), targets[0].shape.radius, color='gray', alpha=1, label=label))\n",
    "\n",
    "    # 범례 및 표시\n",
    "    ax.legend(loc='upper left', bbox_to_anchor=(1, 1))\n",
    "    plt.grid(True)\n",
    "    plt.show()"
   ]
  },
  {
   "cell_type": "code",
   "execution_count": 70,
   "metadata": {},
   "outputs": [],
   "source": [
    "def numpy_pos(agents, targets, finished_position):\n",
    "    agents_pos = []\n",
    "    for agent in agents:\n",
    "        x, y = agent.state.pos.squeeze().tolist()\n",
    "        agents_pos.append([x, y])\n",
    "    agents_pos = np.array(agents_pos)\n",
    "    \n",
    "    targets_pos = []\n",
    "    targets_cost = []\n",
    "    for target in targets:\n",
    "        x, y = target.state.pos.squeeze().tolist()\n",
    "        targets_pos.append([x, y])\n",
    "        cost = target.cost.item()\n",
    "        targets_cost.append(cost)\n",
    "    targets_pos = np.array(targets_pos)\n",
    "    targets_cost = np.array(targets_cost)\n",
    "\n",
    "    finished_pos = []\n",
    "    for pos in finished_position:\n",
    "        x, y = pos[0].squeeze().tolist()\n",
    "        finished_pos.append([x, y])\n",
    "    finished_pos = np.array(finished_pos)\n",
    "    \n",
    "    return agents_pos, targets_pos, targets_cost, finished_pos"
   ]
  },
  {
   "cell_type": "code",
   "execution_count": 71,
   "metadata": {},
   "outputs": [],
   "source": [
    "agents, targets, finished_position = world_reset(env)"
   ]
  },
  {
   "cell_type": "code",
   "execution_count": 72,
   "metadata": {},
   "outputs": [],
   "source": [
    "agents_pos, targets_pos, targets_cost, finished_pos = numpy_pos(agents, targets, finished_position)\n"
   ]
  },
  {
   "cell_type": "code",
   "execution_count": 73,
   "metadata": {},
   "outputs": [],
   "source": [
    "from ortools.linear_solver import pywraplp"
   ]
  },
  {
   "cell_type": "code",
   "execution_count": 74,
   "metadata": {},
   "outputs": [
    {
     "name": "stdout",
     "output_type": "stream",
     "text": [
      "[10, 10, 10, 20, 20, 20, 30, 30, 30, 40, 40, 40]\n"
     ]
    }
   ],
   "source": [
    "targets_cost = targets_cost.tolist()\n",
    "print(targets_cost)"
   ]
  },
  {
   "cell_type": "code",
   "execution_count": 75,
   "metadata": {},
   "outputs": [],
   "source": [
    "targets_values = targets_cost\n",
    "\n",
    "data = {}\n",
    "data[\"weights\"] = [10 for _ in range(len(targets_cost))]\n",
    "data[\"values\"] = targets_cost\n",
    "assert len(data[\"weights\"]) == len(data[\"values\"])\n",
    "data[\"num_items\"] = len(data[\"weights\"])\n",
    "data[\"all_items\"] = range(data[\"num_items\"])\n",
    "\n",
    "# 수용능력을 어떻게 정해줄 것인가.\n",
    "# 일단은 100으로 그냥 진행. 공평하게 담아지는가?\n",
    "data[\"bin_capacities\"] = [30, 30, 30, 30]\n",
    "data[\"num_bins\"] = len(data[\"bin_capacities\"])\n",
    "data[\"all_bins\"] = range(data[\"num_bins\"])"
   ]
  },
  {
   "cell_type": "code",
   "execution_count": 76,
   "metadata": {},
   "outputs": [],
   "source": [
    "solver = pywraplp.Solver.CreateSolver(\"SCIP\")\n",
    "if solver is None:\n",
    "    print(\"SCIP solver unavailable.\")\n",
    "    print(\"종료시켜라 그냥\")\n",
    "    \n",
    "x = {}\n",
    "for i in data[\"all_items\"]:\n",
    "    for b in data[\"all_bins\"]:\n",
    "        x[i, b] = solver.BoolVar(f\"x_{i}_{b}\")"
   ]
  },
  {
   "cell_type": "code",
   "execution_count": 77,
   "metadata": {},
   "outputs": [
    {
     "name": "stdout",
     "output_type": "stream",
     "text": [
      "Solving with SCIP 9.2.0 [LP solver: Glop 9.12]\n",
      "Total packed value: 300.0\n",
      "Bin 0\n",
      "Item 0 weight: 10 value: 10\n",
      "Item 1 weight: 10 value: 10\n",
      "Item 2 weight: 10 value: 10\n",
      "Packed bin weight: 30\n",
      "Packed bin value: 30\n",
      "\n",
      "Bin 1\n",
      "Item 3 weight: 10 value: 20\n",
      "Item 4 weight: 10 value: 20\n",
      "Item 5 weight: 10 value: 20\n",
      "Packed bin weight: 30\n",
      "Packed bin value: 60\n",
      "\n",
      "Bin 2\n",
      "Item 6 weight: 10 value: 30\n",
      "Item 7 weight: 10 value: 30\n",
      "Item 8 weight: 10 value: 30\n",
      "Packed bin weight: 30\n",
      "Packed bin value: 90\n",
      "\n",
      "Bin 3\n",
      "Item 9 weight: 10 value: 40\n",
      "Item 10 weight: 10 value: 40\n",
      "Item 11 weight: 10 value: 40\n",
      "Packed bin weight: 30\n",
      "Packed bin value: 120\n",
      "\n",
      "Total packed weight: 120\n"
     ]
    }
   ],
   "source": [
    "# Constraints.\n",
    "# Each item is assigned to at most one bin.\n",
    "for i in data[\"all_items\"]:\n",
    "    solver.Add(sum(x[i, b] for b in data[\"all_bins\"]) <= 1)\n",
    "\n",
    "# The amount packed in each bin cannot exceed its capacity.\n",
    "for b in data[\"all_bins\"]:\n",
    "    solver.Add(\n",
    "        sum(x[i, b] * data[\"weights\"][i] for i in data[\"all_items\"])\n",
    "        <= data[\"bin_capacities\"][b]\n",
    "    )\n",
    "\n",
    "# Objective.\n",
    "# Maximize total value of packed items.\n",
    "objective = solver.Objective()\n",
    "for i in data[\"all_items\"]:\n",
    "    for b in data[\"all_bins\"]:\n",
    "        objective.SetCoefficient(x[i, b], data[\"values\"][i])\n",
    "objective.SetMaximization()\n",
    "\n",
    "print(f\"Solving with {solver.SolverVersion()}\")\n",
    "status = solver.Solve()\n",
    "\n",
    "if status == pywraplp.Solver.OPTIMAL:\n",
    "    print(f\"Total packed value: {objective.Value()}\")\n",
    "    total_weight = 0\n",
    "    for b in data[\"all_bins\"]:\n",
    "        print(f\"Bin {b}\")\n",
    "        bin_weight = 0\n",
    "        bin_value = 0\n",
    "        for i in data[\"all_items\"]:\n",
    "            if x[i, b].solution_value() > 0:\n",
    "                print(\n",
    "                    f\"Item {i} weight: {data['weights'][i]} value:\"\n",
    "                    f\" {data['values'][i]}\"\n",
    "                )\n",
    "                bin_weight += data[\"weights\"][i]\n",
    "                bin_value += data[\"values\"][i]\n",
    "        print(f\"Packed bin weight: {bin_weight}\")\n",
    "        print(f\"Packed bin value: {bin_value}\\n\")\n",
    "        total_weight += bin_weight\n",
    "    print(f\"Total packed weight: {total_weight}\")\n",
    "else:\n",
    "    print(\"The problem does not have an optimal solution.\")"
   ]
  }
 ],
 "metadata": {
  "kernelspec": {
   "display_name": "marl",
   "language": "python",
   "name": "python3"
  },
  "language_info": {
   "codemirror_mode": {
    "name": "ipython",
    "version": 3
   },
   "file_extension": ".py",
   "mimetype": "text/x-python",
   "name": "python",
   "nbconvert_exporter": "python",
   "pygments_lexer": "ipython3",
   "version": "3.10.16"
  }
 },
 "nbformat": 4,
 "nbformat_minor": 2
}
