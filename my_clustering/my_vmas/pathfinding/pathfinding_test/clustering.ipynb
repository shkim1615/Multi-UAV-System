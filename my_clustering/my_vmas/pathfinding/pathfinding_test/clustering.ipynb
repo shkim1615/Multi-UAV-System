{
 "cells": [
  {
   "cell_type": "markdown",
   "metadata": {},
   "source": [
    "클러스터링은 거리 기반으로는 타겟의 분배를 잘 함.  \n",
    "여기서 타겟 개수 제한의 경우 문제가 생기는데..  \n",
    "학습 단계에서 처리할 방법은 쉽게 보이지 않음.  \n",
    "학습이 완료되고 개수가 지나치게 이상한 경우 추가적인 알고리즘을 사용하여 개수를 적당히 분배할 것.  \n",
    "여기에서 무게는 일단 배제한다.   \n"
   ]
  },
  {
   "cell_type": "code",
   "execution_count": 46,
   "metadata": {},
   "outputs": [],
   "source": [
    "import torch\n",
    "from torch import multiprocessing\n",
    "import numpy as np\n",
    "import matplotlib.pyplot as plt\n",
    "\n",
    "\n",
    "import sys\n",
    "sys.path.append('/home/ksh-server/workspace/ICUFN')\n",
    "from my_clustering.my_vmas.scenarios.navigation_clustering import Scenario"
   ]
  },
  {
   "cell_type": "code",
   "execution_count": 47,
   "metadata": {},
   "outputs": [],
   "source": [
    "is_fork = multiprocessing.get_start_method() == \"fork\"\n",
    "device = (\n",
    "    torch.device(0)\n",
    "    if torch.cuda.is_available() and not is_fork\n",
    "    else torch.device(\"cpu\")\n",
    ")\n",
    "vmas_device = device\n",
    "\n",
    "env = Scenario()\n",
    "world = env.make_world(\n",
    "        device=device,\n",
    "        n_agents=4,\n",
    "        batch_dim=1\n",
    "    )\n"
   ]
  },
  {
   "cell_type": "code",
   "execution_count": 48,
   "metadata": {},
   "outputs": [],
   "source": [
    "def world_reset(env):\n",
    "    env.reset_world_at()\n",
    "    agents = env.world.agents\n",
    "    targets = env.targets\n",
    "    finished_position = env.finished_targets\n",
    "\n",
    "    return agents, targets, finished_position"
   ]
  },
  {
   "cell_type": "code",
   "execution_count": 49,
   "metadata": {},
   "outputs": [],
   "source": [
    "def initial_render(agents, targets, finished_position):\n",
    "    map_size = 2\n",
    "\n",
    "    # 플롯 생성\n",
    "    fig, ax = plt.subplots(figsize=(4, 4))\n",
    "    ax.set_xlim(-map_size, map_size)\n",
    "    ax.set_ylim(-map_size, map_size)\n",
    "    ax.set_title(\"Agent and Target Distribution\")\n",
    "\n",
    "    # 에이전트 플로팅 (파란색 원)\n",
    "    for i, agent in enumerate(agents):\n",
    "        x, y = agent.state.pos.squeeze().tolist()\n",
    "        ax.add_patch(plt.Circle((x, y), agent.shape.radius, color=agent.color, alpha=1, label=f\"Agent_{i+1}\"))\n",
    "\n",
    "    for target in targets:\n",
    "        x, y = target.state.pos.squeeze().tolist()\n",
    "        label = \"target\" if targets[0] == target else None\n",
    "        ax.add_patch(plt.Circle((x, y), target.shape.radius, color=\"black\", alpha=1, label=label))\n",
    "        \n",
    "    for pos in finished_position:\n",
    "        x, y = pos[0].squeeze().tolist()\n",
    "        label = 'finished_position' if finished_position[0] == pos else None\n",
    "        ax.add_patch(plt.Circle((x, y), targets[0].shape.radius, color='gray', alpha=1, label=label))\n",
    "\n",
    "    # 범례 및 표시\n",
    "    ax.legend(loc='upper left', bbox_to_anchor=(1, 1))\n",
    "    plt.grid(True)\n",
    "    plt.show()"
   ]
  },
  {
   "cell_type": "code",
   "execution_count": 50,
   "metadata": {},
   "outputs": [],
   "source": [
    "# def numpy_pos(agents, targets, finished_position):\n",
    "#     agents_pos = []\n",
    "#     for agent in agents:\n",
    "#         x, y = agent.state.pos.squeeze().tolist()\n",
    "#         agents_pos.append([x, y])\n",
    "#     agents_pos = np.array(agents_pos)\n",
    "    \n",
    "#     targets_pos = []\n",
    "#     targets_cost = []\n",
    "#     for target in targets:\n",
    "#         x, y = target.state.pos.squeeze().tolist()\n",
    "#         targets_pos.append([x, y])\n",
    "#         cost = target.cost.item()\n",
    "#         targets_cost.append(cost)\n",
    "#     targets_pos = np.array(targets_pos)\n",
    "#     targets_cost = np.array(targets_cost)\n",
    "\n",
    "#     finished_pos = []\n",
    "#     for pos in finished_position:\n",
    "#         x, y = pos[0].squeeze().tolist()\n",
    "#         finished_pos.append([x, y])\n",
    "#     finished_pos = np.array(finished_pos)\n",
    "    \n",
    "#     return agents_pos, targets_pos, targets_cost, finished_pos"
   ]
  },
  {
   "cell_type": "code",
   "execution_count": 51,
   "metadata": {},
   "outputs": [],
   "source": [
    "def numpy_pos(agents, targets, finished_position):\n",
    "    agents_pos = []\n",
    "    for agent in agents:\n",
    "        x, y = agent.state.pos.squeeze().tolist()\n",
    "        agents_pos.append([x, y])\n",
    "    agents_pos = np.array(agents_pos)\n",
    "    \n",
    "    targets_pos = []\n",
    "    targets_cost = []\n",
    "    for target in targets:\n",
    "        x, y = target.state.pos.squeeze().tolist()\n",
    "        targets_pos.append([x, y])\n",
    "        cost = target.cost.item()\n",
    "        targets_cost.append(cost)\n",
    "    targets_pos = np.array(targets_pos)\n",
    "    targets_cost = np.array(targets_cost)\n",
    "\n",
    "    finished_pos = []\n",
    "    for pos in finished_position:\n",
    "        x, y = pos.state.pos.squeeze().tolist()\n",
    "        finished_pos.append([x, y])\n",
    "    finished_pos = np.array(finished_pos)\n",
    "    \n",
    "    return agents_pos, targets_pos, targets_cost, finished_pos"
   ]
  },
  {
   "cell_type": "code",
   "execution_count": 52,
   "metadata": {},
   "outputs": [],
   "source": [
    "agents, targets, finished_position= world_reset(env)"
   ]
  },
  {
   "cell_type": "code",
   "execution_count": 53,
   "metadata": {},
   "outputs": [],
   "source": [
    "agents_pos, targets_pos, targets_cost, finished_pos = numpy_pos(agents, targets, finished_position)\n"
   ]
  },
  {
   "cell_type": "code",
   "execution_count": 54,
   "metadata": {},
   "outputs": [],
   "source": [
    "from sklearn.cluster import KMeans\n",
    "from ortools.constraint_solver import pywrapcp, routing_enums_pb2"
   ]
  },
  {
   "cell_type": "code",
   "execution_count": 55,
   "metadata": {},
   "outputs": [],
   "source": [
    "# agents_pos\n",
    "# targets_pos, targets_cost\n",
    "# finished_pos"
   ]
  },
  {
   "cell_type": "code",
   "execution_count": 56,
   "metadata": {},
   "outputs": [],
   "source": [
    "n_clusters = len(agents)"
   ]
  },
  {
   "cell_type": "code",
   "execution_count": 57,
   "metadata": {},
   "outputs": [],
   "source": [
    "def kmeans_clust(targets_pos):\n",
    "    kmeans = KMeans(n_clusters=n_clusters, random_state=0)\n",
    "    kmeans.fit(targets_pos)\n",
    "\n",
    "    labels = kmeans.labels_\n",
    "    centers = kmeans.cluster_centers_\n",
    "    \n",
    "    return labels, centers"
   ]
  },
  {
   "cell_type": "code",
   "execution_count": 58,
   "metadata": {},
   "outputs": [],
   "source": [
    "def kmeans_cost_division_clust(targets_pos, targets_cost):\n",
    "    # 타겟 증식\n",
    "    for i, cost in enumerate(targets_cost):\n",
    "        count = cost // 10 - 1\n",
    "        for _ in range(count):\n",
    "            targets_pos = np.concatenate((targets_pos, np.expand_dims(targets_pos[i], axis=0)), axis=0)\n",
    "            \n",
    "    kmeans = KMeans(n_clusters=n_clusters, random_state=0)\n",
    "    kmeans.fit(targets_pos)\n",
    "\n",
    "    labels = kmeans.labels_\n",
    "    centers = kmeans.cluster_centers_\n",
    "    \n",
    "    return labels, centers, targets_pos"
   ]
  },
  {
   "cell_type": "code",
   "execution_count": 59,
   "metadata": {},
   "outputs": [],
   "source": [
    "def zip_clusters(agents, targets, labels):\n",
    "    clusters = [[] for _ in range(len(agents))]\n",
    "    for target, label in zip(targets, labels):\n",
    "        clusters[label].append(target)\n",
    "    return clusters"
   ]
  },
  {
   "cell_type": "code",
   "execution_count": 60,
   "metadata": {},
   "outputs": [],
   "source": [
    "def clusters_render(agents, clusters, centers, func= lambda target : target.state.pos.squeeze().tolist()):\n",
    "    plt.Figure(figsize=(4, 4))\n",
    "    for i, cluster in enumerate(clusters):\n",
    "        for j, target in enumerate(cluster):\n",
    "            x, y = func(target)\n",
    "            plt.scatter(x, y, color = agents[i].color, label = f\"agent{i+1}\" if j == 0 else \"\")\n",
    "            \n",
    "    plt.scatter(centers[:, 0], centers[:, 1], c='black', marker='*', alpha=0.2, s=200, label='Centers')\n",
    "    plt.title(\"Target Position Clustering\")\n",
    "    plt.legend(loc='upper left', bbox_to_anchor=(1.05, 1.0))\n",
    "    plt.grid(True)\n",
    "    plt.axis('equal')\n",
    "    plt.show()"
   ]
  },
  {
   "cell_type": "code",
   "execution_count": 61,
   "metadata": {},
   "outputs": [
    {
     "data": {
      "image/png": "[encoded data removed]",
      "text/plain": [
       "<Figure size 640x480 with 1 Axes>"
      ]
     },
     "metadata": {},
     "output_type": "display_data"
    },
    {
     "name": "stdout",
     "output_type": "stream",
     "text": [
      "[[<vmas.simulator.core.Landmark object at 0x76bca841f340>, <vmas.simulator.core.Landmark object at 0x76bca841e170>], [<vmas.simulator.core.Landmark object at 0x76bca841ed10>, <vmas.simulator.core.Landmark object at 0x76bca841f0a0>, <vmas.simulator.core.Landmark object at 0x76bca841e110>, <vmas.simulator.core.Landmark object at 0x76bca841e380>, <vmas.simulator.core.Landmark object at 0x76bca841d8a0>, <vmas.simulator.core.Landmark object at 0x76bca841d9f0>], [<vmas.simulator.core.Landmark object at 0x76bca841f1f0>], [<vmas.simulator.core.Landmark object at 0x76bca841e0e0>, <vmas.simulator.core.Landmark object at 0x76bca841eb60>, <vmas.simulator.core.Landmark object at 0x76bca841f310>]]\n"
     ]
    }
   ],
   "source": [
    "labels, centers = kmeans_clust(targets_pos)\n",
    "clusters = zip_clusters(agents, targets, labels)\n",
    "clusters_render(agents, clusters, centers)\n",
    "print(clusters)"
   ]
  },
  {
   "cell_type": "code",
   "execution_count": 62,
   "metadata": {},
   "outputs": [
    {
     "data": {
      "image/png": "[encoded data removed]",
      "text/plain": [
       "<Figure size 640x480 with 1 Axes>"
      ]
     },
     "metadata": {},
     "output_type": "display_data"
    },
    {
     "name": "stdout",
     "output_type": "stream",
     "text": [
      "20\n",
      "60\n",
      "10\n",
      "30\n"
     ]
    }
   ],
   "source": [
    "labels, centers, expended = kmeans_cost_division_clust(targets_pos, targets_cost)\n",
    "clusters = zip_clusters(agents, targets, labels)\n",
    "clusters_render(agents, clusters, centers)\n",
    "\n",
    "# 분배된 코스트\n",
    "for cluster in clusters:\n",
    "    print(len(cluster)*10)"
   ]
  },
  {
   "cell_type": "code",
   "execution_count": 63,
   "metadata": {},
   "outputs": [],
   "source": [
    "# 센터와 드론 위치 비교해서 위치 변경해줘야 함."
   ]
  },
  {
   "cell_type": "code",
   "execution_count": 64,
   "metadata": {},
   "outputs": [],
   "source": [
    "from scipy.optimize import linear_sum_assignment\n",
    "\n",
    "def closest_centers(agents_pos, centers, clusters):\n",
    "    # 거리 행렬 계산 (agents x centers)\n",
    "    cost_matrix = np.linalg.norm(agents_pos[:, np.newaxis, :] - centers[np.newaxis, :, :], axis=2)\n",
    "\n",
    "    # 헝가리 알고리즘으로 최소 거리 매칭\n",
    "    agent_indices, center_indices = linear_sum_assignment(cost_matrix)\n",
    "    \n",
    "    closest_clusters = [clusters[i] for i in center_indices]\n",
    "    \n",
    "    return agent_indices, center_indices, closest_clusters"
   ]
  },
  {
   "cell_type": "code",
   "execution_count": 65,
   "metadata": {},
   "outputs": [
    {
     "name": "stdout",
     "output_type": "stream",
     "text": [
      "에이전트별 가장 가까운 센터 인덱스 (중복 없음):\n",
      "Agent 0 → Center 2\n",
      "[<vmas.simulator.core.Landmark object at 0x76bca841f1f0>]\n",
      "Agent 1 → Center 0\n",
      "[<vmas.simulator.core.Landmark object at 0x76bca841f340>, <vmas.simulator.core.Landmark object at 0x76bca841e170>]\n",
      "Agent 2 → Center 3\n",
      "[<vmas.simulator.core.Landmark object at 0x76bca841e0e0>, <vmas.simulator.core.Landmark object at 0x76bca841eb60>, <vmas.simulator.core.Landmark object at 0x76bca841f310>]\n",
      "Agent 3 → Center 1\n",
      "[<vmas.simulator.core.Landmark object at 0x76bca841ed10>, <vmas.simulator.core.Landmark object at 0x76bca841f0a0>, <vmas.simulator.core.Landmark object at 0x76bca841e110>, <vmas.simulator.core.Landmark object at 0x76bca841e380>, <vmas.simulator.core.Landmark object at 0x76bca841d8a0>, <vmas.simulator.core.Landmark object at 0x76bca841d9f0>]\n",
      "[2 0 3 1]\n"
     ]
    }
   ],
   "source": [
    "agent_indices, center_indices, closest_clusters = closest_centers(agents_pos, centers, clusters)\n",
    "\n",
    "print(\"에이전트별 가장 가까운 센터 인덱스 (중복 없음):\")\n",
    "for agent_idx, center_idx in zip(agent_indices, center_indices):\n",
    "    print(f\"Agent {agent_idx} → Center {center_idx}\")\n",
    "    print(closest_clusters[agent_idx])\n",
    "print(center_indices)\n",
    "\n",
    "# 필요한 건 closest_clusters"
   ]
  },
  {
   "cell_type": "code",
   "execution_count": 66,
   "metadata": {},
   "outputs": [],
   "source": [
    "def figure_closest_centers(agents_pos, centers, agent_indices, center_indices):\n",
    "    plt.figure(figsize=(8, 6))\n",
    "\n",
    "    # 에이전트 (파란 점)\n",
    "    plt.scatter(agents_pos[:, 0], agents_pos[:, 1], c='blue', label='Agents', s=100)\n",
    "\n",
    "    # 센터 (빨간 X)\n",
    "    plt.scatter(centers[:, 0], centers[:, 1], c='red', label='Centers', s=100, marker='X')\n",
    "\n",
    "    # 에이전트와 센터를 점선으로 연결\n",
    "    for agent_idx, center_idx in zip(agent_indices, center_indices):\n",
    "        agent = agents_pos[agent_idx]\n",
    "        center = centers[center_idx]\n",
    "        plt.plot([agent[0], center[0]], [agent[1], center[1]], 'k--')\n",
    "\n",
    "    # 제목, 축, 범례\n",
    "    plt.title(\"Agent to Closest Center Matching (No Duplicates)\")\n",
    "    plt.xlabel(\"X\")\n",
    "    plt.ylabel(\"Y\")\n",
    "    plt.legend()\n",
    "    plt.grid(True)\n",
    "    plt.axis(\"equal\")\n",
    "    plt.tight_layout()\n",
    "    plt.show()"
   ]
  },
  {
   "cell_type": "code",
   "execution_count": 67,
   "metadata": {},
   "outputs": [
    {
     "data": {
      "image/png": "[encoded data removed]",
      "text/plain": [
       "<Figure size 800x600 with 1 Axes>"
      ]
     },
     "metadata": {},
     "output_type": "display_data"
    }
   ],
   "source": [
    "figure_closest_centers(agents_pos, centers, agent_indices, center_indices)"
   ]
  },
  {
   "cell_type": "code",
   "execution_count": 68,
   "metadata": {},
   "outputs": [],
   "source": [
    "# tsp의 영역"
   ]
  },
  {
   "cell_type": "code",
   "execution_count": 69,
   "metadata": {},
   "outputs": [
    {
     "name": "stdout",
     "output_type": "stream",
     "text": [
      "[[-0.24875951 -1.3839879 ]\n",
      " [-0.17999411  1.47250199]\n",
      " [-1.11460066 -1.0266366 ]\n",
      " [ 0.98974705  1.62308931]]\n",
      "[[<vmas.simulator.core.Landmark object at 0x76bca841f1f0>], [<vmas.simulator.core.Landmark object at 0x76bca841f340>, <vmas.simulator.core.Landmark object at 0x76bca841e170>], [<vmas.simulator.core.Landmark object at 0x76bca841e0e0>, <vmas.simulator.core.Landmark object at 0x76bca841eb60>, <vmas.simulator.core.Landmark object at 0x76bca841f310>], [<vmas.simulator.core.Landmark object at 0x76bca841ed10>, <vmas.simulator.core.Landmark object at 0x76bca841f0a0>, <vmas.simulator.core.Landmark object at 0x76bca841e110>, <vmas.simulator.core.Landmark object at 0x76bca841e380>, <vmas.simulator.core.Landmark object at 0x76bca841d8a0>, <vmas.simulator.core.Landmark object at 0x76bca841d9f0>]]\n",
      "[[ 0.2  0.2]\n",
      " [ 0.2 -0.2]\n",
      " [-0.2 -0.2]\n",
      " [-0.2  0.2]]\n"
     ]
    }
   ],
   "source": [
    "print(agents_pos)\n",
    "print(closest_clusters)\n",
    "print(finished_pos)"
   ]
  },
  {
   "cell_type": "code",
   "execution_count": 70,
   "metadata": {},
   "outputs": [
    {
     "name": "stdout",
     "output_type": "stream",
     "text": [
      "[<vmas.simulator.core.Landmark object at 0x76bca841f1f0>]\n",
      "[[-0.30958032608032227, -1.9697999954223633]]\n"
     ]
    }
   ],
   "source": [
    "print(closest_clusters[0])\n",
    "\n",
    "temp = []\n",
    "for target in closest_clusters[0]:\n",
    "    x, y = target.state.pos.squeeze().tolist()\n",
    "    temp.append([x, y])\n",
    "# temp = np.array(temp)\n",
    "\n",
    "print(temp)"
   ]
  },
  {
   "cell_type": "code",
   "execution_count": 71,
   "metadata": {},
   "outputs": [],
   "source": [
    "def compute_euclidean_distance_matrix(locations):\n",
    "    n = len(locations)\n",
    "    matrix = np.zeros((n, n), dtype=int)\n",
    "    for i in range(n):\n",
    "        for j in range(n):\n",
    "            if i != j:\n",
    "                dx, dy = locations[i] - locations[j]\n",
    "                matrix[i][j] = int(np.hypot(dx, dy) * 1000)  # 소수점 줄이기 위해 스케일 업\n",
    "    return matrix"
   ]
  },
  {
   "cell_type": "code",
   "execution_count": 72,
   "metadata": {},
   "outputs": [],
   "source": [
    "def dist_matrix(closest_clusters, agents_pos, finished_pos):\n",
    "    agents_goals = []\n",
    "    for i in range(len(closest_clusters)):\n",
    "        agent_goal = [agents_pos[i].tolist(), finished_pos[i].tolist()]\n",
    "        for target in closest_clusters[i]:\n",
    "            x, y = target.state.pos.squeeze().tolist()\n",
    "            agent_goal.append([x, y])\n",
    "        agents_goals.append(agent_goal)  \n",
    "\n",
    "    distance_matrix = []\n",
    "    for locations in agents_goals:\n",
    "        locations = np.array(locations)\n",
    "        matrix = compute_euclidean_distance_matrix(locations)\n",
    "        matrix = matrix.tolist()\n",
    "        distance_matrix.append(matrix)\n",
    "    \n",
    "    return distance_matrix"
   ]
  },
  {
   "cell_type": "code",
   "execution_count": 73,
   "metadata": {},
   "outputs": [],
   "source": [
    "distance_matrices = dist_matrix(closest_clusters, agents_pos, finished_pos)"
   ]
  },
  {
   "cell_type": "code",
   "execution_count": 74,
   "metadata": {},
   "outputs": [],
   "source": [
    "def create_data_model(distance_matrix):\n",
    "    data = {}\n",
    "    data[\"distance_matrix\"] = distance_matrix\n",
    "    data[\"num_vehicles\"] = 1\n",
    "    data[\"starts\"] = [0]\n",
    "    data[\"ends\"] = [1]\n",
    "    return data\n",
    "\n",
    "def create_data_models(distance_matrices):\n",
    "    data_matrix = []\n",
    "    for distance_matrix in distance_matrices:\n",
    "        data = create_data_model(distance_matrix)\n",
    "        data_matrix.append(data)\n",
    "    return data_matrix"
   ]
  },
  {
   "cell_type": "code",
   "execution_count": 75,
   "metadata": {},
   "outputs": [],
   "source": [
    "data_matrix = create_data_models(distance_matrices)"
   ]
  },
  {
   "cell_type": "code",
   "execution_count": 76,
   "metadata": {},
   "outputs": [],
   "source": [
    "def print_solution(data, manager, routing, solution):\n",
    "    print(f\"Objective: {solution.ObjectiveValue()}\")\n",
    "    for vehicle_id in range(data[\"num_vehicles\"]):\n",
    "        index = routing.Start(vehicle_id)\n",
    "        route = []\n",
    "        while not routing.IsEnd(index):\n",
    "            route.append(manager.IndexToNode(index))\n",
    "            index = solution.Value(routing.NextVar(index))\n",
    "        route.append(manager.IndexToNode(index))\n",
    "        print(f\"Route for vehicle {vehicle_id}: {route}\")\n"
   ]
  },
  {
   "cell_type": "code",
   "execution_count": 77,
   "metadata": {},
   "outputs": [],
   "source": [
    "def make_solutions(distance_matrices):\n",
    "    \"\"\"Entry point of the program.\"\"\"\n",
    "    # Instantiate the data problem.\n",
    "    data_matrix = create_data_models(distance_matrices)\n",
    "    \n",
    "    solutions = []\n",
    "    managers, routings = [], []\n",
    "\n",
    "    for data in data_matrix:\n",
    "\n",
    "        # Create the routing index manager.\n",
    "        manager = pywrapcp.RoutingIndexManager(\n",
    "            len(data[\"distance_matrix\"]), data[\"num_vehicles\"], data[\"starts\"], data[\"ends\"]\n",
    "        )\n",
    "\n",
    "        # Create Routing Model.\n",
    "        routing = pywrapcp.RoutingModel(manager)\n",
    "\n",
    "        # Create and register a transit callback.\n",
    "        def distance_callback(from_index, to_index):\n",
    "            \"\"\"Returns the distance between the two nodes.\"\"\"\n",
    "            # Convert from routing variable Index to distance matrix NodeIndex.\n",
    "            from_node = manager.IndexToNode(from_index)\n",
    "            to_node = manager.IndexToNode(to_index)\n",
    "            # print(f\"[DEBUG] from_node: {from_node}, to_node: {to_node}, matrix size: {len(data['distance_matrix'])}\")\n",
    "            if from_node >= len(data['distance_matrix']) or to_node >= len(data['distance_matrix']):\n",
    "                print(f\"[DEBUG] from_node: {from_node}, to_node: {to_node}, matrix size: {len(data['distance_matrix'])}\")\n",
    "            return data[\"distance_matrix\"][from_node][to_node]\n",
    "\n",
    "        transit_callback_index = routing.RegisterTransitCallback(distance_callback)\n",
    "\n",
    "        # Define cost of each arc.\n",
    "        routing.SetArcCostEvaluatorOfAllVehicles(transit_callback_index)\n",
    "\n",
    "        # Add Distance constraint.\n",
    "        dimension_name = \"Distance\"\n",
    "        routing.AddDimension(\n",
    "            transit_callback_index,\n",
    "            0,  # no slack\n",
    "            10000,  # vehicle maximum travel distance\n",
    "            True,  # start cumul to zero\n",
    "            dimension_name,\n",
    "        )\n",
    "        distance_dimension = routing.GetDimensionOrDie(dimension_name)\n",
    "        distance_dimension.SetGlobalSpanCostCoefficient(100)\n",
    "\n",
    "        # Setting first solution heuristic.\n",
    "        search_parameters = pywrapcp.DefaultRoutingSearchParameters()\n",
    "        search_parameters.first_solution_strategy = (\n",
    "            routing_enums_pb2.FirstSolutionStrategy.PATH_CHEAPEST_ARC\n",
    "        )\n",
    "\n",
    "        # Solve the problem.\n",
    "        solution = routing.SolveWithParameters(search_parameters)\n",
    "        managers.append(manager)\n",
    "        routings.append(routing)\n",
    "        solutions.append(solution)\n",
    "        \n",
    "    return data_matrix, managers, routings, solutions\n",
    "\n",
    "        # Print solution on console.\n",
    "        # if solution:\n",
    "        #     print_solution(data, manager, routing, solution)\n",
    "        #     print(\"======================\")"
   ]
  },
  {
   "cell_type": "code",
   "execution_count": 78,
   "metadata": {},
   "outputs": [],
   "source": [
    "def get_routes(data, manager, routing, solution):\n",
    "    for vehicle_id in range(data[\"num_vehicles\"]):\n",
    "        index = routing.Start(vehicle_id)\n",
    "        route = []\n",
    "        while not routing.IsEnd(index):\n",
    "            route.append(manager.IndexToNode(index))\n",
    "            index = solution.Value(routing.NextVar(index))\n",
    "        route.append(manager.IndexToNode(index))\n",
    "\n",
    "    return route\n"
   ]
  },
  {
   "cell_type": "code",
   "execution_count": 79,
   "metadata": {},
   "outputs": [
    {
     "name": "stdout",
     "output_type": "stream",
     "text": [
      "[[2], [2, 3], [2, 4, 3], [3, 5, 6, 4, 7, 2]]\n",
      "[[<vmas.simulator.core.Landmark object at 0x76bca841f1f0>], [<vmas.simulator.core.Landmark object at 0x76bca841f340>, <vmas.simulator.core.Landmark object at 0x76bca841e170>], [<vmas.simulator.core.Landmark object at 0x76bca841e0e0>, <vmas.simulator.core.Landmark object at 0x76bca841eb60>, <vmas.simulator.core.Landmark object at 0x76bca841f310>], [<vmas.simulator.core.Landmark object at 0x76bca841ed10>, <vmas.simulator.core.Landmark object at 0x76bca841f0a0>, <vmas.simulator.core.Landmark object at 0x76bca841e110>, <vmas.simulator.core.Landmark object at 0x76bca841e380>, <vmas.simulator.core.Landmark object at 0x76bca841d8a0>, <vmas.simulator.core.Landmark object at 0x76bca841d9f0>]]\n"
     ]
    }
   ],
   "source": [
    "data_matrix, managers, routings, solutions = make_solutions(distance_matrices)\n",
    "\n",
    "\n",
    "routes = []\n",
    "for i in range(len(solutions)):\n",
    "    if solutions[i]:\n",
    "        route = get_routes(data_matrix[i], managers[i], routings[i], solutions[i])\n",
    "        routes.append(route[1:-1])\n",
    "\n",
    "print(routes)\n",
    "print(closest_clusters)"
   ]
  },
  {
   "cell_type": "code",
   "execution_count": 80,
   "metadata": {},
   "outputs": [
    {
     "name": "stdout",
     "output_type": "stream",
     "text": [
      "[<vmas.simulator.core.Landmark object at 0x76bca841f1f0>]\n",
      "[<vmas.simulator.core.Landmark object at 0x76bca841f340>, <vmas.simulator.core.Landmark object at 0x76bca841e170>]\n",
      "[<vmas.simulator.core.Landmark object at 0x76bca841e0e0>, <vmas.simulator.core.Landmark object at 0x76bca841eb60>, <vmas.simulator.core.Landmark object at 0x76bca841f310>]\n",
      "[<vmas.simulator.core.Landmark object at 0x76bca841ed10>, <vmas.simulator.core.Landmark object at 0x76bca841f0a0>, <vmas.simulator.core.Landmark object at 0x76bca841e110>, <vmas.simulator.core.Landmark object at 0x76bca841e380>, <vmas.simulator.core.Landmark object at 0x76bca841d8a0>, <vmas.simulator.core.Landmark object at 0x76bca841d9f0>]\n",
      "\n",
      "[<vmas.simulator.core.Landmark object at 0x76bca841f1f0>]\n",
      "[<vmas.simulator.core.Landmark object at 0x76bca841f340>, <vmas.simulator.core.Landmark object at 0x76bca841e170>]\n",
      "[<vmas.simulator.core.Landmark object at 0x76bca841e0e0>, <vmas.simulator.core.Landmark object at 0x76bca841f310>, <vmas.simulator.core.Landmark object at 0x76bca841eb60>]\n",
      "[<vmas.simulator.core.Landmark object at 0x76bca841f0a0>, <vmas.simulator.core.Landmark object at 0x76bca841e380>, <vmas.simulator.core.Landmark object at 0x76bca841d8a0>, <vmas.simulator.core.Landmark object at 0x76bca841e110>, <vmas.simulator.core.Landmark object at 0x76bca841d9f0>, <vmas.simulator.core.Landmark object at 0x76bca841ed10>]\n"
     ]
    }
   ],
   "source": [
    "# routes에 따라 closest_clusters 재정렬\n",
    "agents_goal = []\n",
    "\n",
    "for cluster, route in zip(closest_clusters, routes):\n",
    "    reordered = [cluster[i-2] for i in route]\n",
    "    agents_goal.append(reordered)\n",
    "    print(cluster)\n",
    "print()\n",
    "for agent_goal in agents_goal:\n",
    "    print(agent_goal)\n",
    "    \n",
    "# 최종적인 결과물\n",
    "# agents_goal. "
   ]
  },
  {
   "cell_type": "code",
   "execution_count": 81,
   "metadata": {},
   "outputs": [
    {
     "name": "stdout",
     "output_type": "stream",
     "text": [
      "Objective: 284416\n",
      "Route for vehicle 0: [0, 2, 1]\n",
      "======================\n",
      "Objective: 347339\n",
      "Route for vehicle 0: [0, 2, 3, 1]\n",
      "======================\n",
      "Objective: 316130\n",
      "Route for vehicle 0: [0, 2, 4, 3, 1]\n",
      "======================\n",
      "Objective: 445511\n",
      "Route for vehicle 0: [0, 3, 5, 6, 4, 7, 2, 1]\n",
      "======================\n"
     ]
    }
   ],
   "source": [
    "for i in range(len(solutions)):\n",
    "    if solutions[i]:\n",
    "        print_solution(data_matrix[i], managers[i], routings[i], solutions[i])\n",
    "        print(\"======================\")"
   ]
  },
  {
   "cell_type": "code",
   "execution_count": 82,
   "metadata": {},
   "outputs": [],
   "source": [
    "# self.clusters = targets_clustering(self.world.agents, self.targets, self.finished_targets, cost_weight=0.15)\n",
    "# self.agents_path, _ = open_tsp_assignment(self.world.agents, self.clusters, self.finished_targets)\n",
    "# for route in self.agents_path:\n",
    "#     for target in route:\n",
    "#         target.state.pos = target.state.pos.to(self.device)"
   ]
  },
  {
   "cell_type": "code",
   "execution_count": 83,
   "metadata": {},
   "outputs": [],
   "source": [
    "def kmeans_tsp(agents, targets, finished_position):\n",
    "    agents_pos, targets_pos, targets_cost, finished_pos = numpy_pos(agents, targets, finished_position)\n",
    "    n_clusters = len(agents)\n",
    "    \n",
    "    labels, centers = kmeans_clust(targets_pos)\n",
    "    clusters = zip_clusters(agents, targets, labels)\n",
    "    \n",
    "    agent_indices, center_indices, closest_clusters = closest_centers(agents_pos, centers, clusters)\n",
    "    \n",
    "    distance_matrices = dist_matrix(closest_clusters, agents_pos, finished_pos)\n",
    "    data_matrix = create_data_models(distance_matrices)\n",
    "    \n",
    "    data_matrix, managers, routings, solutions = make_solutions(distance_matrices)\n",
    "    \n",
    "    routes = []\n",
    "    for i in range(len(solutions)):\n",
    "        if solutions[i]:\n",
    "            route = get_routes(data_matrix[i], managers[i], routings[i], solutions[i])\n",
    "            routes.append(route[1:-1])\n",
    "            \n",
    "    agents_goal = []\n",
    "\n",
    "    for cluster, route in zip(closest_clusters, routes):\n",
    "        reordered = [cluster[i-2] for i in route]\n",
    "        agents_goal.append(reordered)\n",
    "        \n",
    "    return agents_goal\n",
    "    \n"
   ]
  },
  {
   "cell_type": "markdown",
   "metadata": {},
   "source": [
    "종합 테스트 필요  \n",
    "1. 각 에이전트 별 거리(무게 포함)  \n",
    "2. 전체 거리 합\n",
    "3. 전체 거리 / 에이전트 수 = 평균\n",
    "4. 평균과 각 에이전트 간의 거리 차이  \n",
    "  \n",
    "평균 차이가 적을 수록 성능 좋음.  \n",
    "계산하는 데 걸리는 시간.  \n",
    "클러스터링 후 랜더링  \n",
    "후처리 기능 추가해야겠는걸.."
   ]
  },
  {
   "cell_type": "code",
   "execution_count": null,
   "metadata": {},
   "outputs": [],
   "source": []
  },
  {
   "cell_type": "code",
   "execution_count": 84,
   "metadata": {},
   "outputs": [
    {
     "data": {
      "image/png": "[encoded data removed]",
      "text/plain": [
       "<Figure size 640x480 with 1 Axes>"
      ]
     },
     "metadata": {},
     "output_type": "display_data"
    },
    {
     "name": "stdout",
     "output_type": "stream",
     "text": [
      "[[<vmas.simulator.core.Landmark object at 0x76bca841d8a0>, <vmas.simulator.core.Landmark object at 0x76bca841eb60>, <vmas.simulator.core.Landmark object at 0x76bca841e170>], [<vmas.simulator.core.Landmark object at 0x76bca841e380>, <vmas.simulator.core.Landmark object at 0x76bca841f0a0>, <vmas.simulator.core.Landmark object at 0x76bca841d9f0>], [<vmas.simulator.core.Landmark object at 0x76bca841ed10>, <vmas.simulator.core.Landmark object at 0x76bca841f340>], [<vmas.simulator.core.Landmark object at 0x76bca841e110>, <vmas.simulator.core.Landmark object at 0x76bca841f1f0>, <vmas.simulator.core.Landmark object at 0x76bca841f310>, <vmas.simulator.core.Landmark object at 0x76bca841e0e0>]]\n",
      "[[2], [2, 3], [2, 4, 3], [3, 5, 6, 4, 7, 2]]\n"
     ]
    }
   ],
   "source": [
    "def kmeans_tsp_test(agents, targets, finished_position):\n",
    "    agents, targets, finished_position= world_reset(env)\n",
    "\n",
    "    agents_pos, targets_pos, targets_cost, finished_pos = numpy_pos(agents, targets, finished_position)\n",
    "    n_clusters = len(agents)\n",
    "\n",
    "    labels, centers = kmeans_clust(targets_pos)\n",
    "    clusters = zip_clusters(agents, targets, labels)\n",
    "\n",
    "    agent_indices, center_indices, closest_clusters = closest_centers(agents_pos, centers, clusters)\n",
    "\n",
    "    distance_matrices = dist_matrix(closest_clusters, agents_pos, finished_pos)\n",
    "    data_matrix = create_data_models(distance_matrices)\n",
    "\n",
    "    data_matrix, managers, routings, solutions = make_solutions(distance_matrices)\n",
    "\n",
    "    routes = []\n",
    "    for i in range(len(solutions)):\n",
    "        if solutions[i]:\n",
    "            route = get_routes(data_matrix[i], managers[i], routings[i], solutions[i])\n",
    "            routes.append(route[1:-1])\n",
    "            \n",
    "    agents_goal = []\n",
    "\n",
    "    for cluster, route in zip(closest_clusters, routes):\n",
    "        reordered = [cluster[i-2] for i in route]\n",
    "        agents_goal.append(reordered)\n",
    "    \n",
    "    return agents_goal, clusters, centers\n",
    "    \n",
    "agents_goal, clusters, centers = kmeans_tsp_test(agents, targets, finished_position)\n",
    "clusters_render(agents, clusters, centers)\n",
    "\n",
    "print(agents_goal)\n",
    "print(routes)\n",
    "\n",
    "# 거리와 무게 계산을 똑바로 해야만 한다이...\n",
    "# 2가지 버전으로 나누어서 해결하는 게 좋을 듯"
   ]
  },
  {
   "cell_type": "code",
   "execution_count": 85,
   "metadata": {},
   "outputs": [],
   "source": [
    "#######################################################################################\n",
    "#######################################################################################\n",
    "#######################################################################################\n",
    "#######################################################################################\n",
    "#######################################################################################\n"
   ]
  },
  {
   "cell_type": "code",
   "execution_count": 86,
   "metadata": {},
   "outputs": [
    {
     "name": "stdout",
     "output_type": "stream",
     "text": [
      "[1 0 2 3 2 0 3 2 1 3 1 0 3 1 2 0 3 3 2 1 2 0 0 1 0 2 3 0 3 1 3 2 2 0 3 3 2\n",
      " 3 1 0 2 2 1 3 1 3 1 0 3 3 0 0 1 3 3 3 3 3 0 3 1 0 1 0 2 2 0 1 1 0 2 1 1 3\n",
      " 0 3 3 3 1 1 0 2 1 3 0 2 1 3 3 1 3 2]\n"
     ]
    },
    {
     "data": {
      "image/png": "[encoded data removed]",
      "text/plain": [
       "<Figure size 640x480 with 1 Axes>"
      ]
     },
     "metadata": {},
     "output_type": "display_data"
    }
   ],
   "source": [
    "import random\n",
    "\n",
    "def kmeans_tsp_test_11(agents, targets, finished_position):\n",
    "    agents, targets, finished_position= world_reset(env)\n",
    "\n",
    "    agents_pos, targets_pos, targets_cost, finished_pos = numpy_pos(agents, targets, finished_position)\n",
    "    n_clusters = len(agents)\n",
    "\n",
    "    coords = [[random.randint(0, 1000), random.randint(0, 1000)] for _ in range(92)]\n",
    "    coords = np.array(coords)\n",
    "    \n",
    "    labels, centers = kmeans_clust(coords)\n",
    "    print(labels)\n",
    "    # 삭제\n",
    "    clusters = zip_clusters(agents, targets, labels)\n",
    "\n",
    "    agent_indices, center_indices, closest_clusters = closest_centers(agents_pos, centers, clusters)\n",
    "\n",
    "    distance_matrices = dist_matrix(closest_clusters, agents_pos, finished_pos)\n",
    "    data_matrix = create_data_models(distance_matrices)\n",
    "\n",
    "    data_matrix, managers, routings, solutions = make_solutions(distance_matrices)\n",
    "\n",
    "    routes = []\n",
    "    for i in range(len(solutions)):\n",
    "        if solutions[i]:\n",
    "            route = get_routes(data_matrix[i], managers[i], routings[i], solutions[i])\n",
    "            routes.append(route[1:-1])\n",
    "            \n",
    "    agents_goal = []\n",
    "\n",
    "    for cluster, route in zip(closest_clusters, routes):\n",
    "        reordered = [cluster[i-2] for i in route]\n",
    "        agents_goal.append(reordered)\n",
    "    \n",
    "    return agents_goal, clusters, centers\n",
    "    \n",
    "agents_goal, clusters, centers = kmeans_tsp_test_11(agents, targets, finished_position)\n",
    "clusters_render(agents, clusters, centers)\n",
    "\n",
    "# print(agents_goal)\n",
    "# print(routes)\n",
    "\n",
    "# 거리와 무게 계산을 똑바로 해야만 한다이...\n",
    "# 2가지 버전으로 나누어서 해결하는 게 좋을 듯"
   ]
  },
  {
   "cell_type": "code",
   "execution_count": 87,
   "metadata": {},
   "outputs": [],
   "source": [
    "def numpy_pos_for_test(agents, agents_goal, finished_position):\n",
    "    agents_pos = []\n",
    "    for agent in agents:\n",
    "        x, y = agent.state.pos.squeeze().tolist()\n",
    "        agents_pos.append([x, y])\n",
    "    agents_pos = np.array(agents_pos)\n",
    "    \n",
    "    agents_goal_pos = []\n",
    "    targets_cost_toal = []\n",
    "    for agent_goal in agents_goal:\n",
    "        targets_cost = []\n",
    "        targets_pos = []\n",
    "        for target in agent_goal:\n",
    "            x, y = target.state.pos.squeeze().tolist()\n",
    "            targets_pos.append([x, y])\n",
    "            cost = target.cost.item()\n",
    "            targets_cost.append(cost)\n",
    "            \n",
    "        targets_pos = np.array(targets_pos)\n",
    "        targets_cost = np.array(targets_cost)\n",
    "        agents_goal_pos.append(targets_pos)\n",
    "        targets_cost_toal.append(targets_cost)\n",
    "        \n",
    "\n",
    "    finished_pos = []\n",
    "    for pos in finished_position:\n",
    "        x, y = pos.state.pos.squeeze().tolist()\n",
    "        finished_pos.append([x, y])\n",
    "    finished_pos = np.array(finished_pos)\n",
    "    \n",
    "    return agents_pos, agents_goal_pos, targets_cost_toal, finished_pos"
   ]
  },
  {
   "cell_type": "code",
   "execution_count": 88,
   "metadata": {},
   "outputs": [
    {
     "name": "stdout",
     "output_type": "stream",
     "text": [
      "[[ 0.37585568 -1.0570786 ]\n",
      " [-1.86628175  0.65883493]\n",
      " [ 1.07263613  1.84068584]\n",
      " [-0.71574402  1.08811116]] [array([[ 1.28108311, -1.56706285],\n",
      "       [ 1.48417902, -1.38104296],\n",
      "       [ 1.5150497 , -0.7051549 ]]), array([[-1.35671902,  1.39872336],\n",
      "       [ 0.96697044,  0.22066355],\n",
      "       [ 0.72183037, -1.38201761]]), array([[ 1.60622597e-03,  5.48027992e-01],\n",
      "       [-1.26425576e+00,  1.37516975e-01],\n",
      "       [-1.16230631e+00, -1.79530311e+00]]), array([[ 1.91738343,  1.22742128],\n",
      "       [ 1.85022616, -1.24002576],\n",
      "       [ 0.98600125, -1.15322447]])] [array([20, 40, 10]), array([30, 10, 40]), array([20, 30, 40]), array([20, 30, 10])] [[ 0.2  0.2]\n",
      " [ 0.2 -0.2]\n",
      " [-0.2 -0.2]\n",
      " [-0.2  0.2]]\n"
     ]
    }
   ],
   "source": [
    "agents_pos, agents_goal_pos, targets_cost_toal, finished_pos = numpy_pos_for_test(agents, agents_goal, finished_position)\n",
    "print(agents_pos, agents_goal_pos, targets_cost_toal, finished_pos)"
   ]
  },
  {
   "cell_type": "code",
   "execution_count": 89,
   "metadata": {},
   "outputs": [
    {
     "name": "stdout",
     "output_type": "stream",
     "text": [
      "dist_tsp: [3.58745641 6.41703846 6.80804778 7.77313703]\n",
      "dist_sum: 24.58567968281168\n",
      "dist_avg: 6.14641992070292\n",
      "dist_diff: [-2.55896351  0.27061854  0.66162786  1.62671711]\n",
      "dist_diff_avg: 6.661338147750939e-16\n"
     ]
    }
   ],
   "source": [
    "def calc_dist(agents_pos, agents_goal_pos, finished_pos):\n",
    "    dist_tsp = []\n",
    "    for i in range(len(agents_pos)):\n",
    "        length = len(agents_goal_pos[i])\n",
    "        start = np.array(agents_pos[i])\n",
    "        end = np.array(agents_goal_pos[i][0])\n",
    "        dist = np.linalg.norm(start - end)\n",
    "        idx = 1\n",
    "        while idx < length:\n",
    "            start = end\n",
    "            end = np.array(agents_goal_pos[i][idx])\n",
    "            dist += np.linalg.norm(start-end)\n",
    "            idx += 1\n",
    "            \n",
    "        start = end\n",
    "        end = np.array(finished_pos[i])\n",
    "        dist += np.linalg.norm(start - end)\n",
    "        dist_tsp.append(dist)\n",
    "    dist_tsp = np.array(dist_tsp)\n",
    "    dist_sum = sum(dist_tsp)\n",
    "    dist_avg = dist_sum/len(agents_pos)\n",
    "    dist_diff = dist_tsp - dist_avg\n",
    "    dist_diff_avg = sum(dist_diff) / 4\n",
    "    \n",
    "    return dist_tsp, dist_sum, dist_avg, dist_diff, dist_diff_avg\n",
    "\n",
    "dist_tsp, dist_sum, dist_avg, dist_diff, dist_diff_avg = calc_dist(agents_pos, agents_goal_pos, finished_pos)\n",
    "\n",
    "print(f\"dist_tsp: {dist_tsp}\")\n",
    "print(f\"dist_sum: {dist_sum}\")\n",
    "print(f\"dist_avg: {dist_avg}\")\n",
    "print(f\"dist_diff: {dist_diff}\")\n",
    "print(f\"dist_diff_avg: {dist_diff_avg}\")\n"
   ]
  },
  {
   "cell_type": "markdown",
   "metadata": {},
   "source": [
    "랜덤으로 정해주는 것과의 거리 차이"
   ]
  },
  {
   "cell_type": "code",
   "execution_count": 90,
   "metadata": {},
   "outputs": [
    {
     "name": "stdout",
     "output_type": "stream",
     "text": [
      "[[<vmas.simulator.core.Landmark object at 0x76bca841e0e0>, <vmas.simulator.core.Landmark object at 0x76bca841ed10>, <vmas.simulator.core.Landmark object at 0x76bca841f0a0>], [<vmas.simulator.core.Landmark object at 0x76bca841e110>, <vmas.simulator.core.Landmark object at 0x76bca841e380>, <vmas.simulator.core.Landmark object at 0x76bca841d8a0>], [<vmas.simulator.core.Landmark object at 0x76bca841f340>, <vmas.simulator.core.Landmark object at 0x76bca841f1f0>, <vmas.simulator.core.Landmark object at 0x76bca841e170>], [<vmas.simulator.core.Landmark object at 0x76bca841eb60>, <vmas.simulator.core.Landmark object at 0x76bca841f310>, <vmas.simulator.core.Landmark object at 0x76bca841d9f0>]]\n"
     ]
    }
   ],
   "source": [
    "def random_choice(agents, targets):\n",
    "    n_agents, n_targets = len(agents), len(targets)\n",
    "    number= n_targets // n_agents\n",
    "    \n",
    "    return [targets[i:i+number] for i in range(0, n_targets, number)]\n",
    "\n",
    "agents_goal = random_choice(agents, targets)\n",
    "print(agents_goal)"
   ]
  },
  {
   "cell_type": "code",
   "execution_count": 91,
   "metadata": {},
   "outputs": [],
   "source": [
    "def random_render(agents, clusters, func= lambda target : target.state.pos.squeeze().tolist()):\n",
    "    plt.Figure(figsize=(4, 4))\n",
    "    for i, cluster in enumerate(clusters):\n",
    "        for j, target in enumerate(cluster):\n",
    "            x, y = func(target)\n",
    "            plt.scatter(x, y, color = agents[i].color, label = f\"agent{i+1}\" if j == 0 else \"\")\n",
    "            \n",
    "    plt.title(\"Target Position Clustering\")\n",
    "    plt.legend(loc='upper left', bbox_to_anchor=(1.05, 1.0))\n",
    "    plt.grid(True)\n",
    "    plt.axis('equal')\n",
    "    plt.show()"
   ]
  },
  {
   "cell_type": "code",
   "execution_count": 92,
   "metadata": {},
   "outputs": [
    {
     "data": {
      "image/png": "[encoded data removed]",
      "text/plain": [
       "<Figure size 640x480 with 1 Axes>"
      ]
     },
     "metadata": {},
     "output_type": "display_data"
    }
   ],
   "source": [
    "random_render(agents, agents_goal)\n",
    "# 랜더링을 보고 싶으면 이 규격에 맞게 또 새로 만들어야 겠는걸....\n",
    "\n",
    "agents_pos, agents_goal_pos, targets_cost_toal, finished_pos = numpy_pos_for_test(agents, agents_goal, finished_position)"
   ]
  },
  {
   "cell_type": "code",
   "execution_count": 93,
   "metadata": {},
   "outputs": [
    {
     "name": "stdout",
     "output_type": "stream",
     "text": [
      "dist_tsp: [ 4.74196418  8.51273191 12.42352498  7.91908217]\n",
      "dist_sum: 33.597303246567975\n",
      "dist_avg: 8.399325811641994\n",
      "dist_diff: [-3.65736163  0.1134061   4.02419916 -0.48024364]\n",
      "dist_diff_avg: -6.661338147750939e-16\n"
     ]
    }
   ],
   "source": [
    "dist_tsp, dist_sum, dist_avg, dist_diff, dist_diff_avg = calc_dist(agents_pos, agents_goal_pos, finished_pos)\n",
    "\n",
    "print(f\"dist_tsp: {dist_tsp}\")\n",
    "print(f\"dist_sum: {dist_sum}\")\n",
    "print(f\"dist_avg: {dist_avg}\")\n",
    "print(f\"dist_diff: {dist_diff}\")\n",
    "print(f\"dist_diff_avg: {dist_diff_avg}\")"
   ]
  },
  {
   "cell_type": "markdown",
   "metadata": {},
   "source": [
    "랜덤까지는 다 만들었음  \n",
    "open m-tsp를 만들어야 함.  \n",
    "m-tsp == vrp  \n",
    "  \n",
    "위에 있는 기존의 tsp가 멀티가 가능한 형태.  \n",
    "데이터 셋 수정 + 멀티 설정 추가"
   ]
  },
  {
   "cell_type": "code",
   "execution_count": 94,
   "metadata": {},
   "outputs": [],
   "source": [
    "def compute_euclidean_distance_matrix_for_mtsp(locations):\n",
    "    n = len(locations)\n",
    "    matrix = np.zeros((n, n), dtype=int)\n",
    "    for i in range(n):\n",
    "        for j in range(n):\n",
    "            if i != j:\n",
    "                dx, dy = locations[i] - locations[j]\n",
    "                matrix[i][j] = int(np.hypot(dx, dy) * 1000)  # 소수점 줄이기 위해 스케일 업\n",
    "    return matrix"
   ]
  },
  {
   "cell_type": "code",
   "execution_count": 95,
   "metadata": {},
   "outputs": [],
   "source": [
    "# 기존 함수: 클러스터링에 맞게 매트릭스를 3차원으로 생성\n",
    "# 수정 사항: 모든 타겟을 대상으로 검사. 이차원으로 생성\n",
    "# : closest_clusters 필요 없음 -> targets_pos로 교체\n",
    "def dist_matrix_for_mtsp(targets_pos, agents_pos, finished_pos):\n",
    "    # 시작 지점 4개, 종료 지점 4개 추가 필요\n",
    "    locations = np.vstack([agents_pos, finished_pos, targets_pos])\n",
    "\n",
    "    matrix = compute_euclidean_distance_matrix(locations)\n",
    "    \n",
    "    return matrix\n",
    "\n",
    "distance_matrix = dist_matrix_for_mtsp(targets_pos, agents_pos, finished_pos)"
   ]
  },
  {
   "cell_type": "code",
   "execution_count": 96,
   "metadata": {},
   "outputs": [],
   "source": [
    "def create_data_model_for_mtsp(distance_matrix):\n",
    "    data = {}\n",
    "    data[\"distance_matrix\"] = distance_matrix\n",
    "    data[\"num_vehicles\"] = 4\n",
    "    data[\"starts\"] = [0, 1, 2, 3]\n",
    "    data[\"ends\"] = [4, 5, 6, 7]\n",
    "    return data"
   ]
  },
  {
   "cell_type": "code",
   "execution_count": 97,
   "metadata": {},
   "outputs": [],
   "source": [
    "data_matrix = create_data_model_for_mtsp(distance_matrix)"
   ]
  },
  {
   "cell_type": "code",
   "execution_count": 98,
   "metadata": {},
   "outputs": [],
   "source": [
    "def print_solution_for_mtsp(data, manager, routing, solution):\n",
    "    dist_tsp = []\n",
    "    \"\"\"Prints solution on console.\"\"\"\n",
    "    print(f\"Objective: {solution.ObjectiveValue()}\")\n",
    "    max_route_distance = 0\n",
    "    for vehicle_id in range(data[\"num_vehicles\"]):\n",
    "        index = routing.Start(vehicle_id)\n",
    "        plan_output = f\"Route for vehicle {vehicle_id}:\\n\"\n",
    "        route_distance = 0\n",
    "        while not routing.IsEnd(index):\n",
    "            plan_output += f\" {manager.IndexToNode(index)} -> \"\n",
    "            previous_index = index\n",
    "            index = solution.Value(routing.NextVar(index))\n",
    "            route_distance += routing.GetArcCostForVehicle(\n",
    "                previous_index, index, vehicle_id\n",
    "            )\n",
    "        plan_output += f\"{manager.IndexToNode(index)}\\n\"\n",
    "        plan_output += f\"Distance of the route: {route_distance * 0.001}m\\n\"\n",
    "        print(plan_output)\n",
    "        max_route_distance = max(route_distance, max_route_distance)\n",
    "        \n",
    "        dist_tsp.append(route_distance * 0.001)\n",
    "    print(f\"Maximum of the route distances: {max_route_distance * 0.001}m\")\n",
    "    \n",
    "    dist_sum = sum(dist_tsp)\n",
    "    dist_avg = dist_sum / 4\n",
    "    dist_diff = [dist - dist_avg for dist in dist_tsp]\n",
    "    dist_diff_avg = sum(dist_diff) / 4\n",
    "        \n",
    "    return dist_tsp, dist_sum, dist_avg, dist_diff, dist_diff_avg\n"
   ]
  },
  {
   "cell_type": "code",
   "execution_count": 99,
   "metadata": {},
   "outputs": [],
   "source": [
    "def make_solutions_for_mtsp(distance_matrix, max_dist):\n",
    "    \"\"\"Entry point of the program.\"\"\"\n",
    "    # Instantiate the data problem.\n",
    "    data = create_data_model_for_mtsp(distance_matrix)\n",
    "\n",
    "    # Create the routing index manager.\n",
    "    manager = pywrapcp.RoutingIndexManager(\n",
    "        len(data[\"distance_matrix\"]), data[\"num_vehicles\"], data[\"starts\"], data[\"ends\"]\n",
    "    )\n",
    "\n",
    "    # Create Routing Model.\n",
    "    routing = pywrapcp.RoutingModel(manager)\n",
    "\n",
    "    # Create and register a transit callback.\n",
    "    def distance_callback(from_index, to_index):\n",
    "        \"\"\"Returns the distance between the two nodes.\"\"\"\n",
    "        # Convert from routing variable Index to distance matrix NodeIndex.\n",
    "        from_node = manager.IndexToNode(from_index)\n",
    "        to_node = manager.IndexToNode(to_index)\n",
    "        return data[\"distance_matrix\"][from_node][to_node]\n",
    "\n",
    "    transit_callback_index = routing.RegisterTransitCallback(distance_callback)\n",
    "\n",
    "    # Define cost of each arc.\n",
    "    routing.SetArcCostEvaluatorOfAllVehicles(transit_callback_index)\n",
    "\n",
    "    # Add Distance constraint.\n",
    "    dimension_name = \"Distance\"\n",
    "    routing.AddDimension(\n",
    "        transit_callback_index,\n",
    "        0,  # no slack\n",
    "        max_dist,  # vehicle maximum travel distance\n",
    "        True,  # start cumul to zero\n",
    "        dimension_name,\n",
    "    )\n",
    "    distance_dimension = routing.GetDimensionOrDie(dimension_name)\n",
    "    distance_dimension.SetGlobalSpanCostCoefficient(100)\n",
    "\n",
    "    # Setting first solution heuristic.\n",
    "    search_parameters = pywrapcp.DefaultRoutingSearchParameters()\n",
    "    search_parameters.first_solution_strategy = (\n",
    "        routing_enums_pb2.FirstSolutionStrategy.PATH_CHEAPEST_ARC\n",
    "    )\n",
    "\n",
    "    # Solve the problem.\n",
    "    solution = routing.SolveWithParameters(search_parameters)\n",
    "\n",
    "    # Print solution on console.\n",
    "    # if solution:\n",
    "    #     dist_tsp, dist_sum, dist_avg, dist_diff, dist_diff_avg = print_solution_for_mtsp(data, manager, routing, solution)\n",
    "    # else:\n",
    "    #     print(\"impossible\")\n",
    "        \n",
    "    return data, manager, routing, solution\n",
    "\n",
    "        "
   ]
  },
  {
   "cell_type": "code",
   "execution_count": 100,
   "metadata": {},
   "outputs": [
    {
     "name": "stdout",
     "output_type": "stream",
     "text": [
      "Objective: 407894\n",
      "Route for vehicle 0:\n",
      " 0 ->  15 ->  19 ->  9 -> 4\n",
      "Distance of the route: 3.903m\n",
      "\n",
      "Route for vehicle 1:\n",
      " 1 ->  8 -> 5\n",
      "Distance of the route: 2.702m\n",
      "\n",
      "Route for vehicle 2:\n",
      " 2 ->  10 ->  12 ->  13 ->  11 -> 6\n",
      "Distance of the route: 3.9410000000000003m\n",
      "\n",
      "Route for vehicle 3:\n",
      " 3 ->  14 ->  16 ->  18 ->  17 -> 7\n",
      "Distance of the route: 3.248m\n",
      "\n",
      "Maximum of the route distances: 3.9410000000000003m\n",
      "dist_tsp: [3.903, 2.702, 3.9410000000000003, 3.248]\n",
      "dist_sum: 13.794\n",
      "dist_avg: 3.4485\n",
      "dist_diff: [0.4544999999999999, -0.7465000000000002, 0.49250000000000016, -0.2004999999999999]\n",
      "dist_diff_avg: 0.0\n"
     ]
    }
   ],
   "source": [
    "data, manager, routing, solution = make_solutions_for_mtsp(distance_matrix, 10000)\n",
    "\n",
    "if solution:\n",
    "        dist_tsp, dist_sum, dist_avg, dist_diff, dist_diff_avg = print_solution_for_mtsp(data, manager, routing, solution)\n",
    "else:\n",
    "    print(\"impossible\")\n",
    "\n",
    "print(f\"dist_tsp: {dist_tsp}\")\n",
    "print(f\"dist_sum: {dist_sum}\")\n",
    "print(f\"dist_avg: {dist_avg}\")\n",
    "print(f\"dist_diff: {dist_diff}\")\n",
    "print(f\"dist_diff_avg: {dist_diff_avg}\")\n"
   ]
  },
  {
   "cell_type": "code",
   "execution_count": 101,
   "metadata": {},
   "outputs": [],
   "source": [
    "# 큰일남.\n",
    "# 멀티 tsp가 성능이 너무 좋음\n",
    "# 그냥 최강 빠름...\n",
    "# 개수를 백단위로 늘려서 억지를 부려?"
   ]
  },
  {
   "cell_type": "code",
   "execution_count": 102,
   "metadata": {},
   "outputs": [
    {
     "name": "stdout",
     "output_type": "stream",
     "text": [
      "Objective: 261720362\n",
      "Route for vehicle 0:\n",
      " 0 ->  62 ->  22 ->  16 ->  26 ->  21 ->  48 ->  39 ->  77 ->  47 ->  27 ->  55 ->  42 ->  40 ->  12 ->  50 ->  89 ->  98 ->  93 ->  60 ->  74 ->  56 ->  94 ->  71 ->  54 ->  37 -> 4\n",
      "Distance of the route: 2516.797m\n",
      "\n",
      "Route for vehicle 1:\n",
      " 1 ->  17 ->  23 ->  90 ->  45 ->  80 ->  69 ->  88 ->  34 ->  81 ->  83 ->  53 ->  85 ->  91 ->  41 ->  44 ->  99 ->  43 ->  24 ->  76 ->  95 ->  97 ->  49 ->  10 ->  8 ->  82 ->  25 ->  75 -> 5\n",
      "Distance of the route: 2500.242m\n",
      "\n",
      "Route for vehicle 2:\n",
      " 2 ->  51 ->  57 ->  30 ->  84 ->  19 ->  36 ->  67 ->  61 ->  86 ->  31 ->  9 ->  59 ->  66 ->  70 ->  14 ->  58 ->  72 ->  64 ->  28 ->  63 ->  20 ->  73 ->  15 ->  32 -> 6\n",
      "Distance of the route: 2506.946m\n",
      "\n",
      "Route for vehicle 3:\n",
      " 3 ->  13 ->  65 ->  33 ->  79 ->  18 ->  11 ->  87 ->  52 ->  29 ->  68 ->  92 ->  38 ->  35 ->  78 ->  96 ->  46 -> 7\n",
      "Distance of the route: 2516.677m\n",
      "\n",
      "Maximum of the route distances: 2516.797m\n"
     ]
    }
   ],
   "source": [
    "import random\n",
    "\n",
    "coords = [[random.randint(0, 1000), random.randint(0, 1000)] for _ in range(100)]\n",
    "coords = np.array(coords)\n",
    "distance_matrix = compute_euclidean_distance_matrix_for_mtsp(coords)\n",
    "\n",
    "data, manager, routing, solution = make_solutions_for_mtsp(distance_matrix, 100000000)\n",
    "\n",
    "if solution:\n",
    "        dist_tsp, dist_sum, dist_avg, dist_diff, dist_diff_avg = print_solution_for_mtsp(data, manager, routing, solution)\n",
    "else:\n",
    "    print(\"impossible\")"
   ]
  }
 ],
 "metadata": {
  "kernelspec": {
   "display_name": "marl",
   "language": "python",
   "name": "python3"
  },
  "language_info": {
   "codemirror_mode": {
    "name": "ipython",
    "version": 3
   },
   "file_extension": ".py",
   "mimetype": "text/x-python",
   "name": "python",
   "nbconvert_exporter": "python",
   "pygments_lexer": "ipython3",
   "version": "3.10.16"
  }
 },
 "nbformat": 4,
 "nbformat_minor": 2
}
