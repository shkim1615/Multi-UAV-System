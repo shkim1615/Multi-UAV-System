{
 "cells": [
  {
   "cell_type": "markdown",
   "metadata": {},
   "source": [
    "클러스터링은 거리 기반으로는 타겟의 분배를 잘 함.  \n",
    "여기서 타겟 개수 제한의 경우 문제가 생기는데..  \n",
    "학습 단계에서 처리할 방법은 쉽게 보이지 않음.  \n",
    "학습이 완료되고 개수가 지나치게 이상한 경우 추가적인 알고리즘을 사용하여 개수를 적당히 분배할 것.  \n",
    "여기에서 무게는 일단 배제한다.   \n"
   ]
  },
  {
   "cell_type": "code",
   "execution_count": 2,
   "metadata": {},
   "outputs": [],
   "source": [
    "import torch\n",
    "from torch import multiprocessing\n",
    "import numpy as np\n",
    "import matplotlib.pyplot as plt\n",
    "\n",
    "\n",
    "import sys\n",
    "sys.path.append('/home/ksh-server/workspace/ICUFN')\n",
    "from my_clustering.my_vmas.scenarios.navigation_random import Scenario"
   ]
  },
  {
   "cell_type": "code",
   "execution_count": 3,
   "metadata": {},
   "outputs": [],
   "source": [
    "is_fork = multiprocessing.get_start_method() == \"fork\"\n",
    "device = (\n",
    "    torch.device(0)\n",
    "    if torch.cuda.is_available() and not is_fork\n",
    "    else torch.device(\"cpu\")\n",
    ")\n",
    "vmas_device = device\n",
    "\n",
    "env = Scenario()\n",
    "world = env.make_world(\n",
    "        device=device,\n",
    "        n_agents=4,\n",
    "        batch_dim=1\n",
    "    )\n"
   ]
  },
  {
   "cell_type": "code",
   "execution_count": 4,
   "metadata": {},
   "outputs": [],
   "source": [
    "def world_reset(env):\n",
    "    env.reset_world_at()\n",
    "    agents = env.world.agents\n",
    "    targets = env.targets\n",
    "    finished_position = env.finished_pos\n",
    "    \n",
    "    return agents, targets, finished_position"
   ]
  },
  {
   "cell_type": "code",
   "execution_count": 5,
   "metadata": {},
   "outputs": [],
   "source": [
    "def initial_render(agents, targets, finished_position):\n",
    "    map_size = 2\n",
    "\n",
    "    # 플롯 생성\n",
    "    fig, ax = plt.subplots(figsize=(4, 4))\n",
    "    ax.set_xlim(-map_size, map_size)\n",
    "    ax.set_ylim(-map_size, map_size)\n",
    "    ax.set_title(\"Agent and Target Distribution\")\n",
    "\n",
    "    # 에이전트 플로팅 (파란색 원)\n",
    "    for i, agent in enumerate(agents):\n",
    "        x, y = agent.state.pos.squeeze().tolist()\n",
    "        ax.add_patch(plt.Circle((x, y), agent.shape.radius, color=agent.color, alpha=1, label=f\"Agent_{i+1}\"))\n",
    "\n",
    "    for target in targets:\n",
    "        x, y = target.state.pos.squeeze().tolist()\n",
    "        label = \"target\" if targets[0] == target else None\n",
    "        ax.add_patch(plt.Circle((x, y), target.shape.radius, color=\"black\", alpha=1, label=label))\n",
    "        \n",
    "    for pos in finished_position:\n",
    "        x, y = pos[0].squeeze().tolist()\n",
    "        label = 'finished_position' if finished_position[0] == pos else None\n",
    "        ax.add_patch(plt.Circle((x, y), targets[0].shape.radius, color='gray', alpha=1, label=label))\n",
    "\n",
    "    # 범례 및 표시\n",
    "    ax.legend(loc='upper left', bbox_to_anchor=(1, 1))\n",
    "    plt.grid(True)\n",
    "    plt.show()"
   ]
  },
  {
   "cell_type": "code",
   "execution_count": 6,
   "metadata": {},
   "outputs": [],
   "source": [
    "def numpy_pos(agents, targets, finished_position):\n",
    "    agents_pos = []\n",
    "    for agent in agents:\n",
    "        x, y = agent.state.pos.squeeze().tolist()\n",
    "        agents_pos.append([x, y])\n",
    "    agents_pos = np.array(agents_pos)\n",
    "    \n",
    "    targets_pos = []\n",
    "    targets_cost = []\n",
    "    for target in targets:\n",
    "        x, y = target.state.pos.squeeze().tolist()\n",
    "        targets_pos.append([x, y])\n",
    "        cost = target.cost.item()\n",
    "        targets_cost.append(cost)\n",
    "    targets_pos = np.array(targets_pos)\n",
    "    targets_cost = np.array(targets_cost)\n",
    "\n",
    "    finished_pos = []\n",
    "    for pos in finished_position:\n",
    "        x, y = pos[0].squeeze().tolist()\n",
    "        finished_pos.append([x, y])\n",
    "    finished_pos = np.array(finished_pos)\n",
    "    \n",
    "    return agents_pos, targets_pos, targets_cost, finished_pos"
   ]
  },
  {
   "cell_type": "code",
   "execution_count": 7,
   "metadata": {},
   "outputs": [],
   "source": [
    "agents, targets, finished_position = world_reset(env)"
   ]
  },
  {
   "cell_type": "code",
   "execution_count": 8,
   "metadata": {},
   "outputs": [],
   "source": [
    "agents_pos, targets_pos, targets_cost, finished_pos = numpy_pos(agents, targets, finished_position)\n"
   ]
  },
  {
   "cell_type": "code",
   "execution_count": 9,
   "metadata": {},
   "outputs": [],
   "source": [
    "from sklearn.cluster import KMeans\n",
    "from ortools.constraint_solver import pywrapcp, routing_enums_pb2"
   ]
  },
  {
   "cell_type": "code",
   "execution_count": 10,
   "metadata": {},
   "outputs": [],
   "source": [
    "# agents_pos\n",
    "# targets_pos, targets_cost\n",
    "# finished_pos"
   ]
  },
  {
   "cell_type": "code",
   "execution_count": 11,
   "metadata": {},
   "outputs": [],
   "source": [
    "n_clusters = len(agents)"
   ]
  },
  {
   "cell_type": "code",
   "execution_count": 12,
   "metadata": {},
   "outputs": [],
   "source": [
    "def kmeans_clust(targets_pos):\n",
    "    kmeans = KMeans(n_clusters=n_clusters, random_state=0)\n",
    "    kmeans.fit(targets_pos)\n",
    "\n",
    "    labels = kmeans.labels_\n",
    "    centers = kmeans.cluster_centers_\n",
    "    \n",
    "    return labels, centers"
   ]
  },
  {
   "cell_type": "code",
   "execution_count": 13,
   "metadata": {},
   "outputs": [],
   "source": [
    "def kmeans_cost_division_clust(targets_pos, targets_cost):\n",
    "    # 타겟 증식\n",
    "    for i, cost in enumerate(targets_cost):\n",
    "        count = cost // 10 - 1\n",
    "        for _ in range(count):\n",
    "            targets_pos = np.concatenate((targets_pos, np.expand_dims(targets_pos[i], axis=0)), axis=0)\n",
    "            \n",
    "    kmeans = KMeans(n_clusters=n_clusters, random_state=0)\n",
    "    kmeans.fit(targets_pos)\n",
    "\n",
    "    labels = kmeans.labels_\n",
    "    centers = kmeans.cluster_centers_\n",
    "    \n",
    "    return labels, centers, targets_pos"
   ]
  },
  {
   "cell_type": "code",
   "execution_count": 14,
   "metadata": {},
   "outputs": [],
   "source": [
    "def zip_clusters(agents, targets, labels):\n",
    "    clusters = [[] for _ in range(len(agents))]\n",
    "    for target, label in zip(targets, labels):\n",
    "        clusters[label].append(target)\n",
    "    return clusters"
   ]
  },
  {
   "cell_type": "code",
   "execution_count": 15,
   "metadata": {},
   "outputs": [],
   "source": [
    "def clusters_render(agents, clusters, centers, func= lambda target : target.state.pos.squeeze().tolist()):\n",
    "    plt.Figure(figsize=(4, 4))\n",
    "    for i, cluster in enumerate(clusters):\n",
    "        for j, target in enumerate(cluster):\n",
    "            x, y = func(target)\n",
    "            plt.scatter(x, y, color = agents[i].color, label = f\"agent{i+1}\" if j == 0 else \"\")\n",
    "            \n",
    "    plt.scatter(centers[:, 0], centers[:, 1], c='black', marker='*', alpha=0.2, s=200, label='Centers')\n",
    "    plt.title(\"Target Position Clustering\")\n",
    "    plt.legend(loc='upper left', bbox_to_anchor=(1.05, 1.0))\n",
    "    plt.grid(True)\n",
    "    plt.axis('equal')\n",
    "    plt.show()"
   ]
  },
  {
   "cell_type": "code",
   "execution_count": 16,
   "metadata": {},
   "outputs": [
    {
     "data": {
      "image/png": "[encoded data removed]",
      "text/plain": [
       "<Figure size 640x480 with 1 Axes>"
      ]
     },
     "metadata": {},
     "output_type": "display_data"
    },
    {
     "name": "stdout",
     "output_type": "stream",
     "text": [
      "[[<vmas.simulator.core.Landmark object at 0x780744fe3b80>], [<vmas.simulator.core.Landmark object at 0x780744fe3f40>, <vmas.simulator.core.Landmark object at 0x780744fe33d0>], [<vmas.simulator.core.Landmark object at 0x780744fe3190>, <vmas.simulator.core.Landmark object at 0x780744fe2aa0>, <vmas.simulator.core.Landmark object at 0x780744fe1840>, <vmas.simulator.core.Landmark object at 0x780744fe2fe0>, <vmas.simulator.core.Landmark object at 0x780744fe30a0>, <vmas.simulator.core.Landmark object at 0x7807d29ffac0>], [<vmas.simulator.core.Landmark object at 0x780744fe2ef0>, <vmas.simulator.core.Landmark object at 0x7808882679d0>, <vmas.simulator.core.Landmark object at 0x780888265d50>]]\n"
     ]
    }
   ],
   "source": [
    "labels, centers = kmeans_clust(targets_pos)\n",
    "clusters = zip_clusters(agents, targets, labels)\n",
    "clusters_render(agents, clusters, centers)\n",
    "print(clusters)"
   ]
  },
  {
   "cell_type": "code",
   "execution_count": null,
   "metadata": {},
   "outputs": [],
   "source": [
    "# 위의 clusters 변수는 open tsp를 통하여 추가적인 경로 설정이 이뤄져야만 함. \n",
    "# 어떻게 만들어줄까나...\n",
    "# 일단은 각 클러스터의 중심점에 대하여 가장 가까운 에이전트를 매칭 시켜줘야한다. "
   ]
  },
  {
   "cell_type": "code",
   "execution_count": 25,
   "metadata": {},
   "outputs": [
    {
     "name": "stdout",
     "output_type": "stream",
     "text": [
      "[[ 1.71743464  0.80884624]\n",
      " [-1.30668509 -1.80043328]\n",
      " [-0.60254484  0.01682615]\n",
      " [-0.09802286  1.70644869]]\n",
      "[[ 0.91261506 -1.98939276]\n",
      " [ 0.75657058  0.19262552]\n",
      " [-0.04689121 -0.82199025]\n",
      " [ 0.95152092  0.42084694]]\n"
     ]
    }
   ],
   "source": [
    "# clusters, centers, agents, finished_pos\n",
    "# 이렇게 4개의 변수를 사용할 것\n",
    "\n",
    "print(centers)\n",
    "print(agents_pos)"
   ]
  },
  {
   "cell_type": "code",
   "execution_count": 27,
   "metadata": {},
   "outputs": [
    {
     "name": "stdout",
     "output_type": "stream",
     "text": [
      "가까운 에이전트:  3\n",
      "에이전트의 위치:  [0.95152092 0.42084694]\n",
      "가까운 에이전트:  2\n",
      "에이전트의 위치:  [-0.04689121 -0.82199025]\n",
      "가까운 에이전트:  2\n",
      "에이전트의 위치:  [-0.04689121 -0.82199025]\n",
      "가까운 에이전트:  3\n",
      "에이전트의 위치:  [0.95152092 0.42084694]\n"
     ]
    }
   ],
   "source": [
    "for center in centers:\n",
    "    distances = np.linalg.norm(agents_pos - center, axis=1) \n",
    "    closest_idx = np.argmin(distances)\n",
    "    closest_agent_pos = agents_pos[closest_idx] \n",
    "    print(\"가까운 에이전트: \", closest_idx)\n",
    "    print(\"에이전트의 위치: \", agents_pos[closest_idx])"
   ]
  },
  {
   "cell_type": "code",
   "execution_count": 26,
   "metadata": {},
   "outputs": [
    {
     "name": "stdout",
     "output_type": "stream",
     "text": [
      "가장 가까운 점: [0.95152092 0.42084694]\n",
      "거리: 0.8585844648517282\n"
     ]
    }
   ],
   "source": [
    "import numpy as np\n",
    "\n",
    "# 두 배열 정의\n",
    "arr1 = np.array([\n",
    "    [ 1.71743464,  0.80884624],\n",
    "    [-1.30668509, -1.80043328],\n",
    "    [-0.60254484,  0.01682615],\n",
    "    [-0.09802286,  1.70644869]\n",
    "])\n",
    "\n",
    "arr2 = np.array([\n",
    "    [ 0.91261506, -1.98939276],\n",
    "    [ 0.75657058,  0.19262552],\n",
    "    [-0.04689121, -0.82199025],\n",
    "    [ 0.95152092,  0.42084694]\n",
    "])\n",
    "\n",
    "# 1번 배열의 첫 번째 원소\n",
    "target = arr1[0]\n",
    "\n",
    "# 거리 계산 (유클리드 거리)\n",
    "distances = np.linalg.norm(arr2 - target, axis=1)\n",
    "\n",
    "# 가장 가까운 인덱스 및 값\n",
    "closest_idx = np.argmin(distances)\n",
    "closest_point = arr2[closest_idx]\n",
    "\n",
    "print(\"가장 가까운 점:\", closest_point)\n",
    "print(\"거리:\", distances[closest_idx])\n"
   ]
  },
  {
   "cell_type": "code",
   "execution_count": 17,
   "metadata": {},
   "outputs": [
    {
     "data": {
      "image/png": "[encoded data removed]",
      "text/plain": [
       "<Figure size 640x480 with 1 Axes>"
      ]
     },
     "metadata": {},
     "output_type": "display_data"
    },
    {
     "name": "stdout",
     "output_type": "stream",
     "text": [
      "10\n",
      "20\n",
      "60\n",
      "30\n"
     ]
    }
   ],
   "source": [
    "labels, centers, expended = kmeans_cost_division_clust(targets_pos, targets_cost)\n",
    "clusters = zip_clusters(agents, targets, labels)\n",
    "clusters_render(agents, clusters, centers)\n",
    "\n",
    "# 분배된 코스트\n",
    "for cluster in clusters:\n",
    "    print(len(cluster)*10)"
   ]
  },
  {
   "cell_type": "code",
   "execution_count": 18,
   "metadata": {},
   "outputs": [],
   "source": [
    "# tsp의 영역"
   ]
  },
  {
   "cell_type": "code",
   "execution_count": 19,
   "metadata": {},
   "outputs": [],
   "source": [
    "def list_pos(agents_pos, clusters, finished_pos):\n",
    "    agents_pos = agents_pos.tolist()\n",
    "    finished_pos = finished_pos.tolist()\n",
    "    \n",
    "    clusters_pos = [[] for _ in range(len(agents_pos))]\n",
    "    for i, targets in enumerate(clusters):\n",
    "        for target in targets:\n",
    "            x, y = target.state.pos.squeeze().tolist()\n",
    "            clusters_pos[i].append([x, y])\n",
    "    \n",
    "    return agents_pos, clusters_pos, finished_pos"
   ]
  },
  {
   "cell_type": "code",
   "execution_count": 20,
   "metadata": {},
   "outputs": [],
   "source": [
    "def numpy_pos_tcp(agents, clusters, finished_position):\n",
    "    agents_pos = []\n",
    "    for agent in agents:\n",
    "        x, y = agent.state.pos.squeeze().tolist()\n",
    "        agents_pos.append([x, y])\n",
    "    agents_pos = np.array(agents_pos)\n",
    "\n",
    "    targets_cost = []\n",
    "    clusters_pos = [[] for _ in range(len(agents))]\n",
    "    for i, cluster in enumerate(clusters):\n",
    "        for target in cluster:\n",
    "            x, y = target.state.pos.squeeze().tolist()\n",
    "            clusters_pos[i].append([x, y])\n",
    "            cost = target.cost.item()\n",
    "            targets_cost.append(cost)\n",
    "        \n",
    "    clusters_pos = np.array(clusters_pos, dtype=object)\n",
    "    targets_cost = np.array(targets_cost)\n",
    "\n",
    "    finished_pos = []\n",
    "    for pos in finished_position:\n",
    "        x, y = pos[0].squeeze().tolist()\n",
    "        finished_pos.append([x, y])\n",
    "    finished_pos = np.array(finished_pos)\n",
    "    \n",
    "    return agents_pos, clusters_pos, targets_cost, finished_pos"
   ]
  },
  {
   "cell_type": "code",
   "execution_count": 21,
   "metadata": {},
   "outputs": [
    {
     "name": "stdout",
     "output_type": "stream",
     "text": [
      "[[ 0.91261506 -1.98939276]\n",
      " [ 0.75657058  0.19262552]\n",
      " [-0.04689121 -0.82199025]\n",
      " [ 0.95152092  0.42084694]]\n",
      "[list([[1.7174346446990967, 0.8088462352752686]])\n",
      " list([[-0.984837532043457, -1.7649283409118652], [-1.6285326480865479, -1.8359382152557373]])\n",
      " list([[-1.5688300132751465, 0.027031421661376953], [-0.6371424198150635, 0.8532180786132812], [-1.0139427185058594, 0.5470032691955566], [-1.192276954650879, -0.32660508155822754], [-0.4993119239807129, 0.1907658576965332], [0.09662437438964844, -0.3751659393310547]])\n",
      " list([[-0.13901019096374512, 1.2520039081573486], [-0.5795810222625732, 1.9103169441223145], [0.3937821388244629, 1.6161916255950928]])]\n",
      "[30 30 30 10 10 20 20 20 40 10 40 40]\n",
      "[[ 0.2  0.2]\n",
      " [ 0.2 -0.2]\n",
      " [-0.2 -0.2]\n",
      " [-0.2  0.2]]\n"
     ]
    }
   ],
   "source": [
    "agents_pos, clusters_pos, targets_cost, finished_pos = numpy_pos_tcp(agents, clusters, finished_position)\n",
    "print(agents_pos)\n",
    "print(clusters_pos)\n",
    "print(targets_cost)\n",
    "print(finished_pos)\n"
   ]
  },
  {
   "cell_type": "code",
   "execution_count": 22,
   "metadata": {},
   "outputs": [],
   "source": [
    "import itertools\n",
    "\n",
    "def solve_open_tsp(points, start, finish):\n",
    "    if not points:\n",
    "        return (), np.linalg.norm(start - finish)\n",
    "    \n",
    "    best_cost = float('inf')\n",
    "    best_perm = None\n",
    "    for perm in itertools.permutations(range(len(points))):\n",
    "        cost = np.linalg.norm(start - points[perm[0]])\n",
    "        for i in range(len(perm)-1):\n",
    "            cost += np.linalg.norm(points[perm[i]] - points[perm[i+1]])\n",
    "        cost += np.linalg.norm(points[perm[-1]] - finish)\n",
    "        if cost < best_cost:\n",
    "            best_cost = cost\n",
    "            best_perm = perm\n",
    "    return best_perm, best_cost\n",
    "\n",
    "def open_tsp_assignment(agents, clusters, finished_targets):\n",
    "    agents_pos, clusters_pos, targets_cost, finished_pos = numpy_pos_tcp(agents, clusters, finished_position)\n",
    "    n_agents = len(agents)\n",
    "    best_total_cost = float('inf')\n",
    "    best_assignment = None\n",
    "    best_routes = {}  # 임시 저장: {agent_idx: {'cluster_index': ..., 'route_order': ..., 'cost': ..., 'cluster_targets': ...}}\n",
    "    \n",
    "    # 모든 할당(에이전트와 클러스터의 순열)을 고려 (총 4! 가지)\n",
    "    for perm in itertools.permutations(range(n_agents)):\n",
    "        total_cost = 0.0\n",
    "        routes = {}\n",
    "        for agent_idx, cluster_idx in enumerate(perm):\n",
    "            start = agents_pos[agent_idx]\n",
    "            finish = finished_pos[agent_idx]\n",
    "            \n",
    "            # 할당된 클러스터 내의 타겟들의 좌표 추출\n",
    "            cluster = clusters[cluster_idx]\n",
    "            points = [target for target in cluster]\n",
    "            \n",
    "            # open TSP 해결: start → cluster의 타겟 순회 → finish\n",
    "            route_order, cost = solve_open_tsp(points, start, finish)\n",
    "            total_cost += cost\n",
    "            routes[agent_idx] = {\n",
    "                'cluster_index': cluster_idx,\n",
    "                'route_order': route_order,   # cluster 리스트 내에서의 순서 (인덱스 튜플)\n",
    "                'cost': cost,\n",
    "                'cluster_targets': cluster\n",
    "            }\n",
    "        if total_cost < best_total_cost:\n",
    "            best_total_cost = total_cost\n",
    "            best_assignment = perm\n",
    "            best_routes = routes\n",
    "    \n",
    "    # best_routes 딕셔너리를 이용해 2차원 리스트 형태로 각 에이전트별 방문 타겟 객체들을 재배열\n",
    "    best_routes_2d = []\n",
    "    for agent_idx in range(n_agents):\n",
    "        route_info = best_routes[agent_idx]\n",
    "        cluster_targets = route_info['cluster_targets']\n",
    "        # route_order는 cluster_targets 내 인덱스 순서\n",
    "        ordered_targets = [cluster_targets[i] for i in route_info['route_order']]\n",
    "        best_routes_2d.append(ordered_targets)\n",
    "    \n",
    "    return best_routes_2d, best_total_cost"
   ]
  },
  {
   "cell_type": "code",
   "execution_count": 23,
   "metadata": {},
   "outputs": [
    {
     "ename": "TypeError",
     "evalue": "unsupported operand type(s) for -: 'float' and 'Landmark'",
     "output_type": "error",
     "traceback": [
      "\u001b[0;31m---------------------------------------------------------------------------\u001b[0m",
      "\u001b[0;31mTypeError\u001b[0m                                 Traceback (most recent call last)",
      "Cell \u001b[0;32mIn[23], line 1\u001b[0m\n\u001b[0;32m----> 1\u001b[0m best_routes_2d, best_total_cost \u001b[38;5;241m=\u001b[39m \u001b[43mopen_tsp_assignment\u001b[49m\u001b[43m(\u001b[49m\u001b[43magents\u001b[49m\u001b[38;5;241;43m=\u001b[39;49m\u001b[43magents\u001b[49m\u001b[43m,\u001b[49m\u001b[43m \u001b[49m\u001b[43mclusters\u001b[49m\u001b[38;5;241;43m=\u001b[39;49m\u001b[43mclusters\u001b[49m\u001b[43m,\u001b[49m\u001b[43m \u001b[49m\u001b[43mfinished_targets\u001b[49m\u001b[38;5;241;43m=\u001b[39;49m\u001b[43mfinished_pos\u001b[49m\u001b[43m)\u001b[49m\n",
      "Cell \u001b[0;32mIn[22], line 39\u001b[0m, in \u001b[0;36mopen_tsp_assignment\u001b[0;34m(agents, clusters, finished_targets)\u001b[0m\n\u001b[1;32m     36\u001b[0m points \u001b[38;5;241m=\u001b[39m [target \u001b[38;5;28;01mfor\u001b[39;00m target \u001b[38;5;129;01min\u001b[39;00m cluster]\n\u001b[1;32m     38\u001b[0m \u001b[38;5;66;03m# open TSP 해결: start → cluster의 타겟 순회 → finish\u001b[39;00m\n\u001b[0;32m---> 39\u001b[0m route_order, cost \u001b[38;5;241m=\u001b[39m \u001b[43msolve_open_tsp\u001b[49m\u001b[43m(\u001b[49m\u001b[43mpoints\u001b[49m\u001b[43m,\u001b[49m\u001b[43m \u001b[49m\u001b[43mstart\u001b[49m\u001b[43m,\u001b[49m\u001b[43m \u001b[49m\u001b[43mfinish\u001b[49m\u001b[43m)\u001b[49m\n\u001b[1;32m     40\u001b[0m total_cost \u001b[38;5;241m+\u001b[39m\u001b[38;5;241m=\u001b[39m cost\n\u001b[1;32m     41\u001b[0m routes[agent_idx] \u001b[38;5;241m=\u001b[39m {\n\u001b[1;32m     42\u001b[0m     \u001b[38;5;124m'\u001b[39m\u001b[38;5;124mcluster_index\u001b[39m\u001b[38;5;124m'\u001b[39m: cluster_idx,\n\u001b[1;32m     43\u001b[0m     \u001b[38;5;124m'\u001b[39m\u001b[38;5;124mroute_order\u001b[39m\u001b[38;5;124m'\u001b[39m: route_order,   \u001b[38;5;66;03m# cluster 리스트 내에서의 순서 (인덱스 튜플)\u001b[39;00m\n\u001b[1;32m     44\u001b[0m     \u001b[38;5;124m'\u001b[39m\u001b[38;5;124mcost\u001b[39m\u001b[38;5;124m'\u001b[39m: cost,\n\u001b[1;32m     45\u001b[0m     \u001b[38;5;124m'\u001b[39m\u001b[38;5;124mcluster_targets\u001b[39m\u001b[38;5;124m'\u001b[39m: cluster\n\u001b[1;32m     46\u001b[0m }\n",
      "Cell \u001b[0;32mIn[22], line 10\u001b[0m, in \u001b[0;36msolve_open_tsp\u001b[0;34m(points, start, finish)\u001b[0m\n\u001b[1;32m      8\u001b[0m best_perm \u001b[38;5;241m=\u001b[39m \u001b[38;5;28;01mNone\u001b[39;00m\n\u001b[1;32m      9\u001b[0m \u001b[38;5;28;01mfor\u001b[39;00m perm \u001b[38;5;129;01min\u001b[39;00m itertools\u001b[38;5;241m.\u001b[39mpermutations(\u001b[38;5;28mrange\u001b[39m(\u001b[38;5;28mlen\u001b[39m(points))):\n\u001b[0;32m---> 10\u001b[0m     cost \u001b[38;5;241m=\u001b[39m np\u001b[38;5;241m.\u001b[39mlinalg\u001b[38;5;241m.\u001b[39mnorm(\u001b[43mstart\u001b[49m\u001b[43m \u001b[49m\u001b[38;5;241;43m-\u001b[39;49m\u001b[43m \u001b[49m\u001b[43mpoints\u001b[49m\u001b[43m[\u001b[49m\u001b[43mperm\u001b[49m\u001b[43m[\u001b[49m\u001b[38;5;241;43m0\u001b[39;49m\u001b[43m]\u001b[49m\u001b[43m]\u001b[49m)\n\u001b[1;32m     11\u001b[0m     \u001b[38;5;28;01mfor\u001b[39;00m i \u001b[38;5;129;01min\u001b[39;00m \u001b[38;5;28mrange\u001b[39m(\u001b[38;5;28mlen\u001b[39m(perm)\u001b[38;5;241m-\u001b[39m\u001b[38;5;241m1\u001b[39m):\n\u001b[1;32m     12\u001b[0m         cost \u001b[38;5;241m+\u001b[39m\u001b[38;5;241m=\u001b[39m np\u001b[38;5;241m.\u001b[39mlinalg\u001b[38;5;241m.\u001b[39mnorm(points[perm[i]] \u001b[38;5;241m-\u001b[39m points[perm[i\u001b[38;5;241m+\u001b[39m\u001b[38;5;241m1\u001b[39m]])\n",
      "\u001b[0;31mTypeError\u001b[0m: unsupported operand type(s) for -: 'float' and 'Landmark'"
     ]
    }
   ],
   "source": [
    "best_routes_2d, best_total_cost = open_tsp_assignment(agents=agents, clusters=clusters, finished_targets=finished_pos)"
   ]
  },
  {
   "cell_type": "code",
   "execution_count": null,
   "metadata": {},
   "outputs": [
    {
     "data": {
      "image/png": "[encoded data removed]",
      "text/plain": [
       "<Figure size 800x800 with 1 Axes>"
      ]
     },
     "metadata": {},
     "output_type": "display_data"
    },
    {
     "name": "stdout",
     "output_type": "stream",
     "text": [
      "클러스터 라벨: [1 0 0 1 3 0 3 1 0 0 2 2]\n"
     ]
    }
   ],
   "source": [
    "import numpy as np\n",
    "import matplotlib.pyplot as plt\n",
    "from scipy.spatial.distance import pdist, squareform\n",
    "from sklearn.cluster import AgglomerativeClustering\n",
    "\n",
    "# 예시용 더미 데이터 (실제 상황에 맞게 targets_pos, targets_cost 정의하세요)\n",
    "# targets_pos: (N, 2) 배열\n",
    "# targets_cost: (N,) 배열\n",
    "\n",
    "# (pos + cost)를 합쳐서 (x, y, t) 형태로 만들기\n",
    "features = np.column_stack((targets_pos, targets_cost))\n",
    "\n",
    "# 📌 사용자 정의 거리 함수\n",
    "def custom_distance(v1, v2):\n",
    "    x1, y1, t1 = v1\n",
    "    x2, y2, t2 = v2\n",
    "    space_dist = np.linalg.norm([x1 - x2, y1 - y2])\n",
    "    time_weight = 0.04\n",
    "    return space_dist + time_weight * (t1 + t2)\n",
    "\n",
    "# 거리 행렬 계산\n",
    "distance_matrix = squareform(pdist(features, metric=custom_distance))\n",
    "\n",
    "# 📌 Agglomerative Clustering 실행\n",
    "clustering = AgglomerativeClustering(n_clusters=4, metric='precomputed', linkage='complete')\n",
    "labels = clustering.fit_predict(distance_matrix)\n",
    "\n",
    "# 클러스터별 target 묶기 (targets가 있다면 여기서 매핑)\n",
    "clusters = [[] for _ in range(4)]\n",
    "for i, label in enumerate(labels):\n",
    "    clusters[label].append(targets_pos[i])\n",
    "\n",
    "# 📊 시각화\n",
    "plt.figure(figsize=(8, 8))\n",
    "plt.scatter(targets_pos[:, 0], targets_pos[:, 1], c=labels, cmap='viridis', s=100, edgecolors='k')\n",
    "plt.title(\"Agglomerative Clustering (Custom Distance: Space + Explore Time)\")\n",
    "plt.xlabel(\"X Position\")\n",
    "plt.ylabel(\"Y Position\")\n",
    "plt.grid(True)\n",
    "plt.axis('equal')\n",
    "plt.show()\n",
    "\n",
    "# 클러스터 결과 확인\n",
    "print(\"클러스터 라벨:\", labels)\n"
   ]
  }
 ],
 "metadata": {
  "kernelspec": {
   "display_name": "marl",
   "language": "python",
   "name": "python3"
  },
  "language_info": {
   "codemirror_mode": {
    "name": "ipython",
    "version": 3
   },
   "file_extension": ".py",
   "mimetype": "text/x-python",
   "name": "python",
   "nbconvert_exporter": "python",
   "pygments_lexer": "ipython3",
   "version": "3.10.16"
  }
 },
 "nbformat": 4,
 "nbformat_minor": 2
}
