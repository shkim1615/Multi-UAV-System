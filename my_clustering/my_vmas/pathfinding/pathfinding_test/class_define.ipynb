{
 "cells": [
  {
   "cell_type": "code",
   "execution_count": 83,
   "metadata": {},
   "outputs": [],
   "source": [
    "import torch\n",
    "from torch import tensor"
   ]
  },
  {
   "cell_type": "code",
   "execution_count": 84,
   "metadata": {},
   "outputs": [],
   "source": [
    "class State:\n",
    "    def __init__(self, x, y):\n",
    "        self.pos = tensor([x, y], dtype=torch.float32)\n",
    "\n",
    "class Agent(State):\n",
    "    def __init__(self, name, x, y, radius = 10):\n",
    "        self.name = name\n",
    "        self.state = State(x, y)\n",
    "        self.radius = radius\n",
    "    \n",
    "    # def __repr__(self):\n",
    "    #     return f\"{self.name}: ({self.state.pos})\"\n",
    "\n",
    "class Target:\n",
    "    def __init__(self, name, x, y, cost, radius = 5):\n",
    "        self.name = name\n",
    "        self.state = State(x, y)\n",
    "        self.cost = cost\n",
    "        self.radius = radius\n",
    "        \n",
    "    # def __repr__(self):\n",
    "    #     return f\"{self.name}: ({self.state.pos}, {self.cost})\""
   ]
  },
  {
   "cell_type": "code",
   "execution_count": 85,
   "metadata": {},
   "outputs": [],
   "source": [
    "map_size = 1000\n",
    "\n",
    "n_agents = 4\n",
    "n_targets = 40\n",
    "agent_radius = 10\n",
    "target_radius = 5\n",
    "\n",
    "agent_pos_sample = n_agents\n",
    "agent_x_indices = torch.randint(0, map_size, (agent_pos_sample,))\n",
    "agent_y_indices = torch.randint(0, map_size, (agent_pos_sample,))\n",
    "\n",
    "target_pos_sample = n_targets\n",
    "x_indices = torch.randint(0, map_size, (target_pos_sample,))\n",
    "y_indices = torch.randint(0, map_size, (target_pos_sample,))\n",
    "\n",
    "cost_allocation = n_targets // n_agents\n",
    "cost_baseline = 100\n",
    "cost_values = torch.tensor([cost_baseline] * cost_allocation + [cost_baseline * 2] * cost_allocation + \n",
    "                           [cost_baseline * 3] * cost_allocation + [cost_baseline * 4] * cost_allocation)\n",
    "\n",
    "shuffled_indices = torch.randperm(len(cost_values))\n",
    "shuffled_costs = cost_values[shuffled_indices]\n"
   ]
  },
  {
   "cell_type": "code",
   "execution_count": 86,
   "metadata": {},
   "outputs": [],
   "source": [
    "agents = []\n",
    "targets = []\n",
    "\n",
    "for i in range(n_agents):\n",
    "    agent = Agent(\n",
    "        name = f\"agent_{i}\",\n",
    "        x = agent_x_indices[i],\n",
    "        y = agent_y_indices[i],\n",
    "        radius = agent_radius\n",
    "    )\n",
    "    agents.append(agent)\n",
    "    \n",
    "for i in range(n_targets):\n",
    "    target = Target(\n",
    "        name=f\"target_{i}\",\n",
    "        x = x_indices[i], \n",
    "        y=y_indices[i], \n",
    "        radius=target_radius, \n",
    "        cost=shuffled_costs[i]\n",
    "    )\n",
    "    targets.append(target)"
   ]
  },
  {
   "cell_type": "code",
   "execution_count": 87,
   "metadata": {},
   "outputs": [
    {
     "name": "stdout",
     "output_type": "stream",
     "text": [
      "[<__main__.Agent object at 0x78f871b17ca0>, <__main__.Agent object at 0x78f8739f0ca0>, <__main__.Agent object at 0x78f872fd7280>, <__main__.Agent object at 0x78f872f2cbe0>]\n",
      "[<__main__.Target object at 0x78f872f214b0>, <__main__.Target object at 0x78f872f2d2d0>, <__main__.Target object at 0x78f872f2ece0>, <__main__.Target object at 0x78f872f2ecb0>, <__main__.Target object at 0x78f872f2c100>, <__main__.Target object at 0x78f872f2d270>, <__main__.Target object at 0x78f872f2e650>, <__main__.Target object at 0x78f872f2c910>, <__main__.Target object at 0x78f872f2d570>, <__main__.Target object at 0x78f872f2e4a0>, <__main__.Target object at 0x78f872f2ca30>, <__main__.Target object at 0x78f872f2dc90>, <__main__.Target object at 0x78f872f2d330>, <__main__.Target object at 0x78f872f2c490>, <__main__.Target object at 0x78f872f2c7c0>, <__main__.Target object at 0x78f872f2ca90>, <__main__.Target object at 0x78f872f2e590>, <__main__.Target object at 0x78f872ffd510>, <__main__.Target object at 0x78f872ffd6c0>, <__main__.Target object at 0x78f872ffe740>, <__main__.Target object at 0x78f872ffcbe0>, <__main__.Target object at 0x78f872ffe140>, <__main__.Target object at 0x78f872ffd420>, <__main__.Target object at 0x78f872ffcf10>, <__main__.Target object at 0x78f872ffcdc0>, <__main__.Target object at 0x78f872ffd1e0>, <__main__.Target object at 0x78f872ffc130>, <__main__.Target object at 0x78f872ffffa0>, <__main__.Target object at 0x78f872ffc580>, <__main__.Target object at 0x78f872ffc5e0>, <__main__.Target object at 0x78f872ffc700>, <__main__.Target object at 0x78f872ffd030>, <__main__.Target object at 0x78f872ffe1d0>, <__main__.Target object at 0x78f872ffc940>, <__main__.Target object at 0x78f872ffc8b0>, <__main__.Target object at 0x78f872ffdbd0>, <__main__.Target object at 0x78f872ffca30>, <__main__.Target object at 0x78f872ffcaf0>, <__main__.Target object at 0x78f872ffc280>, <__main__.Target object at 0x78f872ffc250>]\n"
     ]
    }
   ],
   "source": [
    "print(agents)\n",
    "print(targets)"
   ]
  }
 ],
 "metadata": {
  "kernelspec": {
   "display_name": "marl",
   "language": "python",
   "name": "python3"
  },
  "language_info": {
   "codemirror_mode": {
    "name": "ipython",
    "version": 3
   },
   "file_extension": ".py",
   "mimetype": "text/x-python",
   "name": "python",
   "nbconvert_exporter": "python",
   "pygments_lexer": "ipython3",
   "version": "3.10.16"
  }
 },
 "nbformat": 4,
 "nbformat_minor": 2
}
