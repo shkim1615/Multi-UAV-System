{
 "cells": [
  {
   "cell_type": "code",
   "execution_count": 1,
   "metadata": {},
   "outputs": [
    {
     "name": "stdout",
     "output_type": "stream",
     "text": [
      "1\n",
      "2\n",
      "3\n"
     ]
    }
   ],
   "source": [
    "test = [1,2,3]\n",
    "for i in test:\n",
    "    print(i)"
   ]
  },
  {
   "cell_type": "code",
   "execution_count": 1,
   "metadata": {},
   "outputs": [
    {
     "name": "stdout",
     "output_type": "stream",
     "text": [
      "[1, 2, 3]\n",
      "[2, 3, 1]\n",
      "[2, 2, 2]\n",
      "[3, 3, 3]\n"
     ]
    }
   ],
   "source": [
    "test = [[1,2,3], [2,3,1], [2,2,2], [3,3,3]]\n",
    "for t in test:\n",
    "    print(t)"
   ]
  },
  {
   "cell_type": "code",
   "execution_count": null,
   "metadata": {},
   "outputs": [
    {
     "name": "stdout",
     "output_type": "stream",
     "text": [
      "[[1, 2], [3, 4], [5, 6], [7, 8]]\n"
     ]
    }
   ],
   "source": [
    "temp = [[<vmas.simulator.core.Landmark object at 0x70e90b75d750>, <vmas.simulator.core.Landmark object at 0x70e90b75f4f0>, <vmas.simulator.core.Landmark object at 0x70e90b75f670>], \n",
    "        [<vmas.simulator.core.Landmark object at 0x70e90b75ef80>, <vmas.simulator.core.Landmark object at 0x70e90b75eec0>, <vmas.simulator.core.Landmark object at 0x70e90b75ee00>], \n",
    "        [<vmas.simulator.core.Landmark object at 0x70e90b75ed40>, <vmas.simulator.core.Landmark object at 0x70e90b75ec80>, <vmas.simulator.core.Landmark object at 0x70e90b75ebc0>], \n",
    "        [<vmas.simulator.core.Landmark object at 0x70e90b75eb00>, <vmas.simulator.core.Landmark object at 0x70e90b75ea40>, <vmas.simulator.core.Landmark object at 0x70e90b75e980>]]"
   ]
  },
  {
   "cell_type": "code",
   "execution_count": 2,
   "metadata": {},
   "outputs": [
    {
     "data": {
      "text/plain": [
       "[[], [3, 2, 1]]"
      ]
     },
     "execution_count": 2,
     "metadata": {},
     "output_type": "execute_result"
    }
   ],
   "source": [
    "test = [[1,2,3], [3,2,1]]\n",
    "test[0].pop(0)\n",
    "test[0].pop(0)\n",
    "test[0].pop(0)\n",
    "test"
   ]
  }
 ],
 "metadata": {
  "kernelspec": {
   "display_name": "marl",
   "language": "python",
   "name": "python3"
  },
  "language_info": {
   "codemirror_mode": {
    "name": "ipython",
    "version": 3
   },
   "file_extension": ".py",
   "mimetype": "text/x-python",
   "name": "python",
   "nbconvert_exporter": "python",
   "pygments_lexer": "ipython3",
   "version": "3.10.16"
  }
 },
 "nbformat": 4,
 "nbformat_minor": 2
}
