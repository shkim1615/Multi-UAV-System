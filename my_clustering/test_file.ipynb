{
 "cells": [
  {
   "cell_type": "code",
   "execution_count": 1,
   "metadata": {},
   "outputs": [
    {
     "name": "stdout",
     "output_type": "stream",
     "text": [
      "1\n",
      "2\n",
      "3\n"
     ]
    }
   ],
   "source": [
    "test = [1,2,3]\n",
    "for i in test:\n",
    "    print(i)"
   ]
  },
  {
   "cell_type": "code",
   "execution_count": 1,
   "metadata": {},
   "outputs": [
    {
     "name": "stdout",
     "output_type": "stream",
     "text": [
      "[1, 2, 3]\n",
      "[2, 3, 1]\n",
      "[2, 2, 2]\n",
      "[3, 3, 3]\n"
     ]
    }
   ],
   "source": [
    "test = [[1,2,3], [2,3,1], [2,2,2], [3,3,3]]\n",
    "for t in test:\n",
    "    print(t)"
   ]
  },
  {
   "cell_type": "code",
   "execution_count": 3,
   "metadata": {},
   "outputs": [
    {
     "name": "stdout",
     "output_type": "stream",
     "text": [
      "tensor([[False, False],\n",
      "        [False, False]])\n"
     ]
    }
   ],
   "source": [
    "import torch\n",
    "\n",
    "# 두 텐서를 만들어 리스트에 담아서 전달\n",
    "result = torch.stack([torch.tensor([False, False]), torch.tensor([False, False])], dim=-1)\n",
    "print(result)\n"
   ]
  },
  {
   "cell_type": "code",
   "execution_count": 8,
   "metadata": {},
   "outputs": [
    {
     "name": "stdout",
     "output_type": "stream",
     "text": [
      "tensor([0., 1.])\n",
      "tensor([1.])\n",
      "tensor([0., 2.])\n"
     ]
    }
   ],
   "source": [
    "import torch\n",
    "from torch import tensor\n",
    "batch_dim = 2\n",
    "pos_rew = torch.zeros(batch_dim)\n",
    "final_rew = pos_rew.clone()\n",
    "        \n",
    "final_reward = 1\n",
    "on_goal = tensor([False, True])\n",
    "final_rew[on_goal] = final_reward\n",
    "print(final_rew)\n",
    "print(final_rew[on_goal])\n",
    "\n",
    "final_rew[on_goal] += 1\n",
    "print(final_rew)"
   ]
  },
  {
   "cell_type": "code",
   "execution_count": 12,
   "metadata": {},
   "outputs": [
    {
     "name": "stdout",
     "output_type": "stream",
     "text": [
      "tensor([0., 0.])\n",
      "0\n"
     ]
    }
   ],
   "source": [
    "target_idx = torch.zeros(batch_dim)\n",
    "print(target_idx)\n",
    "print(int(target_idx[0].item()))"
   ]
  }
 ],
 "metadata": {
  "kernelspec": {
   "display_name": "marl",
   "language": "python",
   "name": "python3"
  },
  "language_info": {
   "codemirror_mode": {
    "name": "ipython",
    "version": 3
   },
   "file_extension": ".py",
   "mimetype": "text/x-python",
   "name": "python",
   "nbconvert_exporter": "python",
   "pygments_lexer": "ipython3",
   "version": "3.10.16"
  }
 },
 "nbformat": 4,
 "nbformat_minor": 2
}
