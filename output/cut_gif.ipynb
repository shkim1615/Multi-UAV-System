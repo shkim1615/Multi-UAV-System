{
 "cells": [
  {
   "cell_type": "code",
   "execution_count": 10,
   "metadata": {},
   "outputs": [],
   "source": [
    "from PIL import Image, ImageSequence\n",
    "\n",
    "# 원본 GIF 열기\n",
    "gif = Image.open(\"60번 영상.gif\")\n",
    "\n",
    "start = 1625\n",
    "end = start + 500\n",
    "# 원하는 프레임 범위 (예: 프레임 10 ~ 30)\n",
    "start_frame = start\n",
    "end_frame = end\n",
    "\n",
    "frames = []\n",
    "for i, frame in enumerate(ImageSequence.Iterator(gif)):\n",
    "    if start_frame <= i <= end_frame:\n",
    "        # 각 프레임 복사 (참조 말고)\n",
    "        frames.append(frame.copy())\n",
    "\n",
    "# 저장\n",
    "frames[0].save(\n",
    "    \"trimmed.gif\",\n",
    "    save_all=True,\n",
    "    append_images=frames[1:],\n",
    "    loop=0,\n",
    "    duration=gif.info['duration'],\n",
    "    disposal=2\n",
    ")\n"
   ]
  }
 ],
 "metadata": {
  "kernelspec": {
   "display_name": "marl",
   "language": "python",
   "name": "python3"
  },
  "language_info": {
   "codemirror_mode": {
    "name": "ipython",
    "version": 3
   },
   "file_extension": ".py",
   "mimetype": "text/x-python",
   "name": "python",
   "nbconvert_exporter": "python",
   "pygments_lexer": "ipython3",
   "version": "3.10.16"
  }
 },
 "nbformat": 4,
 "nbformat_minor": 2
}
